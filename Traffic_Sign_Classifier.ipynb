{
 "cells": [
  {
   "cell_type": "markdown",
   "metadata": {},
   "source": [
    "# Self-Driving Car Engineer Nanodegree\n",
    "\n",
    "## Deep Learning\n",
    "\n",
    "## Project: Build a Traffic Sign Recognition Classifier\n",
    "\n",
    "In this notebook, a template is provided for you to implement your functionality in stages, which is required to successfully complete this project. If additional code is required that cannot be included in the notebook, be sure that the Python code is successfully imported and included in your submission if necessary. \n",
    "\n",
    "> **Note**: Once you have completed all of the code implementations, you need to finalize your work by exporting the iPython Notebook as an HTML document. Before exporting the notebook to html, all of the code cells need to have been run so that reviewers can see the final implementation and output. You can then export the notebook by using the menu above and navigating to  \\n\",\n",
    "    \"**File -> Download as -> HTML (.html)**. Include the finished document along with this notebook as your submission. \n",
    "\n",
    "In addition to implementing code, there is a writeup to complete. The writeup should be completed in a separate file, which can be either a markdown file or a pdf document. There is a [write up template](https://github.com/udacity/CarND-Traffic-Sign-Classifier-Project/blob/master/writeup_template.md) that can be used to guide the writing process. Completing the code template and writeup template will cover all of the [rubric points](https://review.udacity.com/#!/rubrics/481/view) for this project.\n",
    "\n",
    "The [rubric](https://review.udacity.com/#!/rubrics/481/view) contains \"Stand Out Suggestions\" for enhancing the project beyond the minimum requirements. The stand out suggestions are optional. If you decide to pursue the \"stand out suggestions\", you can include the code in this Ipython notebook and also discuss the results in the writeup file.\n",
    "\n",
    "\n",
    ">**Note:** Code and Markdown cells can be executed using the **Shift + Enter** keyboard shortcut. In addition, Markdown cells can be edited by typically double-clicking the cell to enter edit mode."
   ]
  },
  {
   "cell_type": "markdown",
   "metadata": {},
   "source": [
    "---\n",
    "\n",
    "## Step 0: Import the needed modules and load the data"
   ]
  },
  {
   "cell_type": "code",
   "execution_count": 8,
   "metadata": {},
   "outputs": [],
   "source": [
    "import numpy as np\n",
    "import pandas as pd\n",
    "from sklearn.utils import shuffle\n",
    "import tensorflow as tf\n",
    "from tensorflow.contrib.layers import flatten\n",
    "import random\n",
    "import matplotlib.pyplot as plt\n",
    "import matplotlib\n",
    "import pickle\n",
    "import os.path\n",
    "LOGDIR = \"/tmp/sign_classifier/\"\n"
   ]
  },
  {
   "cell_type": "code",
   "execution_count": 9,
   "metadata": {
    "collapsed": true
   },
   "outputs": [],
   "source": [
    "# Load pickled data\n",
    "def load_pickled_data():\n",
    "    training_file = \"./traffic-sign-data/train.p\"\n",
    "    validation_file= \"./traffic-sign-data/valid.p\"\n",
    "    testing_file = \"./traffic-sign-data/test.p\"\n",
    "    class_file_name = \"./signnames.csv\"\n",
    "\n",
    "    with open(training_file, mode='rb') as f:\n",
    "        train = pickle.load(f)\n",
    "    with open(validation_file, mode='rb') as f:\n",
    "        valid = pickle.load(f)\n",
    "    with open(testing_file, mode='rb') as f:\n",
    "        test = pickle.load(f)\n",
    "\n",
    "    X_train, y_train = train['features'], train['labels']\n",
    "    X_valid, y_valid = valid['features'], valid['labels']\n",
    "    X_test, y_test = test['features'], test['labels']\n",
    "    return X_train, y_train, X_valid, y_valid, X_test, y_test\n",
    "X_train, y_train, X_valid, y_valid, X_test, y_test = load_pickled_data()"
   ]
  },
  {
   "cell_type": "markdown",
   "metadata": {},
   "source": [
    "---\n",
    "\n",
    "## Step 1: Dataset Summary & Exploration\n",
    "\n",
    "The pickled data is a dictionary with 4 key/value pairs:\n",
    "\n",
    "- `'features'` is a 4D array containing raw pixel data of the traffic sign images, (num examples, width, height, channels).\n",
    "- `'labels'` is a 1D array containing the label/class id of the traffic sign. The file `signnames.csv` contains id -> name mappings for each id.\n",
    "- `'sizes'` is a list containing tuples, (width, height) representing the original width and height the image.\n",
    "- `'coords'` is a list containing tuples, (x1, y1, x2, y2) representing coordinates of a bounding box around the sign in the image. **THESE COORDINATES ASSUME THE ORIGINAL IMAGE. THE PICKLED DATA CONTAINS RESIZED VERSIONS (32 by 32) OF THESE IMAGES**\n",
    "\n",
    "Complete the basic data summary below. Use python, numpy and/or pandas methods to calculate the data summary rather than hard coding the results. For example, the [pandas shape method](http://pandas.pydata.org/pandas-docs/stable/generated/pandas.DataFrame.shape.html) might be useful for calculating some of the summary results. "
   ]
  },
  {
   "cell_type": "markdown",
   "metadata": {},
   "source": [
    "### Provide a Basic Summary of the Data Set Using Python, Numpy and/or Pandas"
   ]
  },
  {
   "cell_type": "code",
   "execution_count": 10,
   "metadata": {},
   "outputs": [
    {
     "name": "stdout",
     "output_type": "stream",
     "text": [
      "Number of training examples = 34799\n",
      "Number of testing examples = 12630\n",
      "Image data shape = [32, 32, 3]\n",
      "Number of classes = 43\n"
     ]
    }
   ],
   "source": [
    "def data_summary():\n",
    "    class_file_name = \"./signnames.csv\"\n",
    "\n",
    "    class_file_df = pd.read_csv(class_file_name, delimiter=',')\n",
    "\n",
    "    # Number of training examples\n",
    "    n_train = np.shape(X_train)[0]\n",
    "\n",
    "    # Number of validation examples\n",
    "    n_validation = np.shape(X_valid)[0]\n",
    "\n",
    "    # Number of testing examples.\n",
    "    n_test = np.shape(X_test)[0]\n",
    "\n",
    "    # What's the shape of an traffic sign image?\n",
    "    image_shape = [np.shape(X_train)[1],np.shape(X_train)[2],np.shape(X_train)[3]]\n",
    "\n",
    "    # How many unique classes/labels there are in the dataset.\n",
    "    n_classes = class_file_df.shape[0]\n",
    "\n",
    "    print(\"Number of training examples =\", n_train)\n",
    "    print(\"Number of testing examples =\", n_test)\n",
    "    print(\"Image data shape =\", image_shape)\n",
    "    print(\"Number of classes =\", n_classes)\n",
    "    return n_train, n_validation, n_test, image_shape, n_classes, class_file_df\n",
    "n_train, n_validation, n_test, image_shape, n_classes, class_file_df = data_summary()"
   ]
  },
  {
   "cell_type": "markdown",
   "metadata": {},
   "source": [
    "### Include an exploratory visualization of the dataset"
   ]
  },
  {
   "cell_type": "markdown",
   "metadata": {},
   "source": [
    "Visualize the German Traffic Signs Dataset using the pickled file(s). This is open ended, suggestions include: plotting traffic sign images, plotting the count of each sign, etc. \n",
    "\n",
    "The [Matplotlib](http://matplotlib.org/) [examples](http://matplotlib.org/examples/index.html) and [gallery](http://matplotlib.org/gallery.html) pages are a great resource for doing visualizations in Python.\n",
    "\n",
    "**NOTE:** It's recommended you start with something simple first. If you wish to do more, come back to it after you've completed the rest of the sections. It can be interesting to look at the distribution of classes in the training, validation and test set. Is the distribution the same? Are there more examples of some classes than others?"
   ]
  },
  {
   "cell_type": "code",
   "execution_count": 11,
   "metadata": {},
   "outputs": [
    {
     "name": "stdout",
     "output_type": "stream",
     "text": [
      "12\n",
      "Priority road\n"
     ]
    },
    {
     "data": {
      "image/png": "[encoded data removed]",
      "text/plain": [
       "<matplotlib.figure.Figure at 0x7fbe4fb72278>"
      ]
     },
     "metadata": {},
     "output_type": "display_data"
    }
   ],
   "source": [
    "def view_sample_image():# Let's look at what one of these pictures looks like\n",
    "    %matplotlib inline\n",
    "    index = random.randint(0, len(X_train))\n",
    "    image = X_train[index].squeeze()\n",
    "    print(y_train[index])\n",
    "    print(class_file_df['SignName'][y_train[index]])\n",
    "    fig = plt.figure(figsize=(2,2))\n",
    "    ax = fig.add_subplot(111)\n",
    "    ax.grid(b=False)\n",
    "    plt.imshow(image)\n",
    "view_sample_image()"
   ]
  },
  {
   "cell_type": "code",
   "execution_count": 12,
   "metadata": {},
   "outputs": [
    {
     "data": {
      "image/png": "[encoded data removed]",
      "text/plain": [
       "<matplotlib.figure.Figure at 0x7fbe4ee3ebe0>"
      ]
     },
     "metadata": {},
     "output_type": "display_data"
    }
   ],
   "source": [
    "def visualize_data(class_file_df):\n",
    "    #Now lets see how many of each type I have in my training data\n",
    "    plt.style.use('ggplot')\n",
    "    # get the counts of signs in the training dataset\n",
    "    unique, counts = np.unique(y_train, return_counts=True)\n",
    "    # since the signs are sorted 1-42 we can just add the count to the dataframe\n",
    "    class_file_df['train_count'] = pd.Series(counts,index=class_file_df.index)\n",
    "    # And sor the dataframe by the counts of the signs to make the plot look nice\n",
    "    class_file_df = class_file_df.sort_values(by=['train_count'])\n",
    "\n",
    "    # setup the plot\n",
    "    fig = plt.figure(figsize=(8,9))\n",
    "    ax = fig.add_subplot(111)\n",
    "    signs = class_file_df['SignName']\n",
    "    y_pos = np.arange(len(signs))\n",
    "    count = class_file_df['train_count']\n",
    "\n",
    "    ax.barh(y_pos, count, align='center',\n",
    "            color='green', ecolor='black')\n",
    "    ax.set_yticks(y_pos)\n",
    "    ax.set_yticklabels(signs)\n",
    "    ax.set_xlabel('count')\n",
    "    ax.set_title('Training signs count')\n",
    "    plt.show()\n",
    "visualize_data(class_file_df)"
   ]
  },
  {
   "cell_type": "markdown",
   "metadata": {},
   "source": [
    "----\n",
    "\n",
    "## Step 2: Design and Test a Model Architecture\n",
    "\n",
    "Design and implement a deep learning model that learns to recognize traffic signs. Train and test your model on the [German Traffic Sign Dataset](http://benchmark.ini.rub.de/?section=gtsrb&subsection=dataset).\n",
    "\n",
    "The LeNet-5 implementation shown in the [classroom](https://classroom.udacity.com/nanodegrees/nd013/parts/fbf77062-5703-404e-b60c-95b78b2f3f9e/modules/6df7ae49-c61c-4bb2-a23e-6527e69209ec/lessons/601ae704-1035-4287-8b11-e2c2716217ad/concepts/d4aca031-508f-4e0b-b493-e7b706120f81) at the end of the CNN lesson is a solid starting point. You'll have to change the number of classes and possibly the preprocessing, but aside from that it's plug and play! \n",
    "\n",
    "With the LeNet-5 solution from the lecture, you should expect a validation set accuracy of about 0.89. To meet specifications, the validation set accuracy will need to be at least 0.93. It is possible to get an even higher accuracy, but 0.93 is the minimum for a successful project submission. \n",
    "\n",
    "There are various aspects to consider when thinking about this problem:\n",
    "\n",
    "- Neural network architecture (is the network over or underfitting?)\n",
    "- Play around preprocessing techniques (normalization, rgb to grayscale, etc)\n",
    "- Number of examples per label (some have more than others).\n",
    "- Generate fake data.\n",
    "\n",
    "Here is an example of a [published baseline model on this problem](http://yann.lecun.com/exdb/publis/pdf/sermanet-ijcnn-11.pdf). It's not required to be familiar with the approach used in the paper but, it's good practice to try to read papers like these."
   ]
  },
  {
   "cell_type": "markdown",
   "metadata": {},
   "source": [
    "### Pre-process the Data Set (normalization, grayscale, etc.)"
   ]
  },
  {
   "cell_type": "markdown",
   "metadata": {},
   "source": [
    "Minimally, the image data should be normalized so that the data has mean zero and equal variance. For image data, `(pixel - 128)/ 128` is a quick way to approximately normalize the data and can be used in this project. \n",
    "\n",
    "Other pre-processing steps are optional. You can try different techniques to see if it improves performance. \n",
    "\n",
    "Use the code cell (or multiple code cells, if necessary) to implement the first step of your project."
   ]
  },
  {
   "cell_type": "code",
   "execution_count": 13,
   "metadata": {},
   "outputs": [],
   "source": [
    "def image_set_preprocessing(image_set, image_size=32, num_image_channels=3):\n",
    "    print(\"Pre-processing images...\")\n",
    "    output= []\n",
    "    for image in image_set:\n",
    "        converted_image = tf.image.convert_image_dtype(image, tf.float32)\n",
    "        # Subtract off the mean and divide by the variance of the pixels.\n",
    "        float_image = tf.image.per_image_standardization(converted_image)\n",
    "        # convert to grayscale\n",
    "        grayimg = tf.image.rgb_to_grayscale(float_image)\n",
    "        # shape the image back to 32x32 with no channels\n",
    "        reshaped_image = tf.reshape(grayimg, [-1, 32, 32, 1])\n",
    "        output.append(reshaped_image)\n",
    "    print(\"Done\")\n",
    "    return output\n",
    "\n",
    "def single_image_preprocessing(image, image_size=32, num_image_channels=3):\n",
    "    reshaped_image = tf.image.convert_image_dtype(image, tf.float32)\n",
    "    # Subtract off the mean and divide by the variance of the pixels.\n",
    "    float_image = tf.image.per_image_standardization(reshaped_image)\n",
    "    grayimg = tf.image.rgb_to_grayscale(float_image)\n",
    "    return grayimg\n",
    "\n"
   ]
  },
  {
   "cell_type": "code",
   "execution_count": 14,
   "metadata": {},
   "outputs": [],
   "source": [
    "# with tf.Session():\n",
    "#     x = image_set_preprocessing(X_train[666:668])\n",
    "# #     x_image = tf.reshape(x[1], [32, 32])\n",
    "#     img= x_image.eval()\n",
    "#     print(np.shape(img))\n",
    "#     %matplotlib inline\n",
    "#     fig = plt.figure(figsize=(2,2))\n",
    "#     ax = fig.add_subplot(111)\n",
    "#     ax.grid(b=False)\n",
    "#     plt.imshow(img, cmap=\"gray\")"
   ]
  },
  {
   "cell_type": "code",
   "execution_count": 15,
   "metadata": {
    "collapsed": true
   },
   "outputs": [],
   "source": [
    "def random_image_distortion(image_set, image_size=32, image_channels=3):\n",
    "    output = []\n",
    "    for image in image_set:\n",
    "        # Randomly crop a [height, width] section of the image.\n",
    "        distorted_image = tf.random_crop(image, [image_size, image_size, image_channels])\n",
    "        # Randomly flip the image horizontally.\n",
    "        distorted_image = tf.image.random_flip_left_right(distorted_image)\n",
    "        output.append(distorted_image)\n",
    "    return output"
   ]
  },
  {
   "cell_type": "markdown",
   "metadata": {},
   "source": [
    "### Model Architecture"
   ]
  },
  {
   "cell_type": "code",
   "execution_count": 16,
   "metadata": {
    "collapsed": true
   },
   "outputs": [],
   "source": [
    "def conv_layer(x, size_in, size_out, stride=1, name=\"conv\"):\n",
    "    with tf.name_scope(name):\n",
    "        mu = 0\n",
    "        sigma = 0.1\n",
    "        w = tf.Variable(tf.truncated_normal([5,5,size_in,size_out],mu,sigma), name=\"W\")\n",
    "        b = tf.Variable(tf.truncated_normal([size_out],mu,sigma), name=\"b\")\n",
    "        conv = tf.nn.conv2d(x, w, strides=[1,stride,stride,1], padding=\"SAME\")\n",
    "        activation = tf.nn.relu(conv + b)\n",
    "        tf.summary.histogram(\"weights\", w)\n",
    "        tf.summary.histogram(\"biases\", b)\n",
    "        tf.summary.histogram(\"activations\", activation)\n",
    "        return tf.nn.max_pool(conv, ksize=[1,2,2,1], strides=[1,2,2,1], padding=\"SAME\")\n",
    "\n",
    "def fc_layer(x, size_in, size_out, stride=1, name=\"fc\" ):\n",
    "    with tf.name_scope(name):\n",
    "        mu = 0\n",
    "        sigma = 0.1\n",
    "        w = tf.Variable(tf.truncated_normal([size_in,size_out],mu,sigma))\n",
    "        b = tf.Variable(tf.truncated_normal([size_out]))\n",
    "        fc = tf.matmul(x, w) + b\n",
    "        activation = tf.nn.relu(fc + b)\n",
    "        tf.summary.histogram(\"weights\", w)\n",
    "        tf.summary.histogram(\"biases\", b)\n",
    "        tf.summary.histogram(\"activations\", activation)\n",
    "        return activation\n",
    "\n",
    "def logit(x, size_in, size_out, name=\"logit\" ):\n",
    "    with tf.name_scope(name):\n",
    "        mu = 0\n",
    "        sigma = 0.1\n",
    "        w = tf.Variable(tf.truncated_normal([size_in,size_out],mu,sigma))\n",
    "        b = tf.Variable(tf.truncated_normal([size_out]))\n",
    "        logit = tf.matmul(x, w) + b\n",
    "        tf.summary.histogram(\"weights\", w)\n",
    "        tf.summary.histogram(\"biases\", b)\n",
    "        tf.summary.histogram(\"activations\", logit)\n",
    "        return logit  "
   ]
  },
  {
   "cell_type": "code",
   "execution_count": 35,
   "metadata": {
    "collapsed": true
   },
   "outputs": [],
   "source": [
    "def evaluate(X_data, y_data, batch_size, writer):\n",
    "    num_examples = len(X_data)\n",
    "    total_accuracy = 0\n",
    "    sess = tf.get_default_session()\n",
    "    for offset in range(0, num_examples, batch_size):\n",
    "        batch_x, batch_y = X_data[offset:offset+batch_size], y_data[offset:offset+batch_size]\n",
    "        [accuracy,s] = sess.run([accuracy_operation,summ], feed_dict={x: batch_x, y: batch_y})\n",
    "        total_accuracy += (accuracy * len(batch_x))\n",
    "        writer.add_summary(s, i)\n",
    "    return total_accuracy / num_examples"
   ]
  },
  {
   "cell_type": "code",
   "execution_count": 53,
   "metadata": {
    "collapsed": true
   },
   "outputs": [],
   "source": [
    "def ModelArch(X_train, y_train, X_valid, y_valid, X_test, y_test,\\\n",
    "              learn_rate, n_classes, hparam=\"test_run\", use_dropout=False, dropout_prob=0,\\\n",
    "              image_distortion=False, dont_run_training=False):\n",
    "    EPOCHS = 10\n",
    "    BATCH_SIZE = 128\n",
    "    tf.reset_default_graph()\n",
    "    sess = tf.Session()\n",
    "   \n",
    "    def modello(x, n_classes):\n",
    "        # Arguments used for tf.truncated_normal, randomly defines variables for the weights and biases \n",
    "        # for each layer\n",
    "\n",
    "        # This is the model\n",
    "        size_in = {\n",
    "            'conv_layer1': 1,\n",
    "            'conv_layer2': 6,\n",
    "            'fc_layer1': 1024,\n",
    "            'fc_layer2': 120,\n",
    "            'logit': 84\n",
    "        }\n",
    "        size_out = {\n",
    "            'conv_layer1': 6,\n",
    "            'conv_layer2': 16,\n",
    "            'fc_layer1': 120,\n",
    "            'fc_layer2': 84,\n",
    "            'logit': n_classes\n",
    "        }\n",
    "        conv1 = conv_layer(x, size_in['conv_layer1'],size_out['conv_layer1'], name=\"conv1\")\n",
    "        conv2 = conv_layer(conv1, size_in['conv_layer2'],size_out['conv_layer2'], name=\"conv2\")\n",
    "        conv2 = flatten(conv2)\n",
    "        fc1 = fc_layer(conv2, size_in['fc_layer1'],size_out['fc_layer1'], name=\"FC1\")\n",
    "        if use_dropout:\n",
    "            fc1 = tf.nn.dropout(fc1, dropout_prob)\n",
    "        fc2 = fc_layer(fc1, size_in['fc_layer2'],size_out['fc_layer2'],name=\"FC2\")\n",
    "        if use_dropout:\n",
    "            fc2 = tf.nn.dropout(fc2, dropout_prob)\n",
    "        logits = logit(fc2,size_in['logit'],size_out['logit'],name=\"output\")\n",
    "        return logits\n",
    "    \n",
    "\n",
    "    # setup the feautures, labels and trianing pipeline\n",
    "    \n",
    "\n",
    "    # x is a placeholder for a batch of input images. y is a placeholder for a batch of output labels.\n",
    "    x = tf.placeholder(tf.float32, (None, 32, 32, 1), name=\"x\")\n",
    "    x_image = tf.reshape(x, [-1, 32, 32, 1])\n",
    "    tf.summary.image('input', x_image, 3)\n",
    "    \n",
    "    y = tf.placeholder(tf.int32, (None), name=\"labels\")\n",
    "    one_hot_y = tf.one_hot(y,n_classes)\n",
    "    logits = modello(x, n_classes)\n",
    "\n",
    "    with tf.name_scope(\"cross-entropy\"):\n",
    "        cross_entropy = tf.reduce_mean(\n",
    "            tf.nn.softmax_cross_entropy_with_logits(\n",
    "                logits=logits, labels=one_hot_y), name=\"cross-entropy\")\n",
    "    tf.summary.scalar(\"cross-entropy\", cross_entropy)\n",
    "\n",
    "    with tf.name_scope(\"accuracy\"):\n",
    "        correct_prediction = tf.equal(tf.argmax(logits, 1), tf.argmax(one_hot_y, 1))\n",
    "        accuracy_operation = tf.reduce_mean(tf.cast(correct_prediction, tf.float32))\n",
    "    tf.summary.scalar(\"accuracy\", accuracy_operation)\n",
    "\n",
    "    with tf.name_scope(\"train\"):\n",
    "        optimizer = tf.train.AdamOptimizer(learning_rate = learn_rate)\n",
    "        training_operation = optimizer.minimize(cross_entropy)\n",
    "    \n",
    "    summ = tf.summary.merge_all()\n",
    "\n",
    "    # Setup model evaluation\n",
    "\n",
    "    # setup tensorboard\n",
    "    sess.run(tf.global_variables_initializer())\n",
    "    writer = tf.summary.FileWriter(LOGDIR + hparam)\n",
    "    writer.add_graph(sess.graph)\n",
    "    \n",
    "    config = tf.contrib.tensorboard.plugins.projector.ProjectorConfig()\n",
    "    num_examples = len(X_train)\n",
    "    if not dont_run_training:\n",
    "        print(\"Training...\")\n",
    "        print()\n",
    "        for i in range(EPOCHS):\n",
    "            X_train, y_train = shuffle(X_train, y_train)\n",
    "            for offset in range(0, num_examples, BATCH_SIZE):\n",
    "                end = offset + BATCH_SIZE\n",
    "                batch_x, batch_y = X_train[offset:end], y_train[offset:end]\n",
    "                if image_distortion:\n",
    "                    batch_x = random_image_distortion(batch_x)\n",
    "                print(batch_x)\n",
    "                sess.run(training_operation, feed_dict={x: batch_x, y: batch_y})\n",
    "            num_valid_examples = len(X_valid)\n",
    "            validation_accuracy = 0\n",
    "            for offset in range(0, num_valid_examples, BATCH_SIZE):\n",
    "                batch_x, batch_y = X_valid[offset:offset+BATCH_SIZE], y_valid[offset:offset+BATCH_SIZE]\n",
    "                [accuracy,s] = sess.run([accuracy_operation,summ], feed_dict={x: batch_x, y: batch_y})\n",
    "                validation_accuracy += (accuracy * len(batch_x))\n",
    "                writer.add_summary(s, i)\n",
    "            accuracy = validation_accuracy/num_valid_examples\n",
    "            print(\"EPOCH {} ...\".format(i+2))\n",
    "            print(\"Validation Accuracy = {:.3f}\".format(accuracy))\n",
    "            print()\n",
    "            saver.save(sess, os.path.join(LOGDIR, \"model.ckpt\"), i)\n",
    "        print(\"Model saved\")\n",
    "    else:\n",
    "        print(\"all set to go\")"
   ]
  },
  {
   "cell_type": "code",
   "execution_count": 19,
   "metadata": {
    "collapsed": true
   },
   "outputs": [],
   "source": [
    "def make_hparam_string(learning_rate, use_drouput, use_image_distortion):\n",
    "    drop_param = \"Dropout\" if use_drouput else \"no_dropout\"\n",
    "    image_distort_param = \"with_image_distortion\" if use_image_distortion else \"no_image_distortion\"\n",
    "    return \"lr_%.0E__%s__%s\" % (learning_rate, drop_param, image_distort_param)"
   ]
  },
  {
   "cell_type": "markdown",
   "metadata": {},
   "source": [
    "### Train, Validate and Test the Model"
   ]
  },
  {
   "cell_type": "markdown",
   "metadata": {},
   "source": [
    "A validation set can be used to assess how well the model is performing. A low accuracy on the training and validation\n",
    "sets imply underfitting. A high accuracy on the training set but low accuracy on the validation set implies overfitting."
   ]
  },
  {
   "cell_type": "code",
   "execution_count": null,
   "metadata": {
    "collapsed": true
   },
   "outputs": [],
   "source": [
    "def allofit(X_train, y_train, X_valid, y_valid, X_test, y_test):\n",
    "    n_train, n_validation, n_test, image_shape, n_classes, class_file_df = data_summary()\n",
    "    drop_rate = 0\n",
    "    for learning_rate in [1E-3, 1E-4]:\n",
    "        for image_distort_param in [False, True]:\n",
    "            for drop_param in [False, True]:\n",
    "                if drop_param:\n",
    "                    for dropout_rate in [0.25, 0.5, 0.75]:\n",
    "                        drop_rate = dropout_rate\n",
    "                        # Construct a hyperparameter string for each one\n",
    "                        hparam_string = make_hparam_string(learning_rate, drop_param, image_distort_param)\n",
    "                        print('Starting run for %s' % hparam_string)\n",
    "                        ModelArch(X_train, y_train, X_valid, y_valid, X_test, y_test,\\\n",
    "                              learning_rate, n_classes, hparam_string, drop_param, drop_rate,\\\n",
    "                              image_distort_param, False)\n",
    "    print('Done training!')\n",
    "    print('Run `tensorboard --logdir=%s` to see the results.' % LOGDIR)\n"
   ]
  },
  {
   "cell_type": "code",
   "execution_count": 54,
   "metadata": {},
   "outputs": [
    {
     "name": "stdout",
     "output_type": "stream",
     "text": [
      "Pre-processing images...\n"
     ]
    },
    {
     "ename": "KeyboardInterrupt",
     "evalue": "",
     "output_type": "error",
     "traceback": [
      "\u001b[0;31m---------------------------------------------------------------------------\u001b[0m",
      "\u001b[0;31mKeyboardInterrupt\u001b[0m                         Traceback (most recent call last)",
      "\u001b[0;32m<ipython-input-54-4fb9040a0cbe>\u001b[0m in \u001b[0;36m<module>\u001b[0;34m()\u001b[0m\n\u001b[1;32m      1\u001b[0m \u001b[0mX_train\u001b[0m\u001b[0;34m,\u001b[0m \u001b[0my_train\u001b[0m\u001b[0;34m,\u001b[0m \u001b[0mX_valid\u001b[0m\u001b[0;34m,\u001b[0m \u001b[0my_valid\u001b[0m\u001b[0;34m,\u001b[0m \u001b[0mX_test\u001b[0m\u001b[0;34m,\u001b[0m \u001b[0my_test\u001b[0m \u001b[0;34m=\u001b[0m \u001b[0mload_pickled_data\u001b[0m\u001b[0;34m(\u001b[0m\u001b[0;34m)\u001b[0m\u001b[0;34m\u001b[0m\u001b[0m\n\u001b[0;32m----> 2\u001b[0;31m \u001b[0mppX_train\u001b[0m \u001b[0;34m=\u001b[0m \u001b[0mimage_set_preprocessing\u001b[0m\u001b[0;34m(\u001b[0m\u001b[0mX_train\u001b[0m\u001b[0;34m)\u001b[0m\u001b[0;34m\u001b[0m\u001b[0m\n\u001b[0m",
      "\u001b[0;32m<ipython-input-13-d95d7c6000e8>\u001b[0m in \u001b[0;36mimage_set_preprocessing\u001b[0;34m(image_set, image_size, num_image_channels)\u001b[0m\n\u001b[1;32m      5\u001b[0m         \u001b[0mconverted_image\u001b[0m \u001b[0;34m=\u001b[0m \u001b[0mtf\u001b[0m\u001b[0;34m.\u001b[0m\u001b[0mimage\u001b[0m\u001b[0;34m.\u001b[0m\u001b[0mconvert_image_dtype\u001b[0m\u001b[0;34m(\u001b[0m\u001b[0mimage\u001b[0m\u001b[0;34m,\u001b[0m \u001b[0mtf\u001b[0m\u001b[0;34m.\u001b[0m\u001b[0mfloat32\u001b[0m\u001b[0;34m)\u001b[0m\u001b[0;34m\u001b[0m\u001b[0m\n\u001b[1;32m      6\u001b[0m         \u001b[0;31m# Subtract off the mean and divide by the variance of the pixels.\u001b[0m\u001b[0;34m\u001b[0m\u001b[0;34m\u001b[0m\u001b[0m\n\u001b[0;32m----> 7\u001b[0;31m         \u001b[0mfloat_image\u001b[0m \u001b[0;34m=\u001b[0m \u001b[0mtf\u001b[0m\u001b[0;34m.\u001b[0m\u001b[0mimage\u001b[0m\u001b[0;34m.\u001b[0m\u001b[0mper_image_standardization\u001b[0m\u001b[0;34m(\u001b[0m\u001b[0mconverted_image\u001b[0m\u001b[0;34m)\u001b[0m\u001b[0;34m\u001b[0m\u001b[0m\n\u001b[0m\u001b[1;32m      8\u001b[0m         \u001b[0;31m# convert to grayscale\u001b[0m\u001b[0;34m\u001b[0m\u001b[0;34m\u001b[0m\u001b[0m\n\u001b[1;32m      9\u001b[0m         \u001b[0mgrayimg\u001b[0m \u001b[0;34m=\u001b[0m \u001b[0mtf\u001b[0m\u001b[0;34m.\u001b[0m\u001b[0mimage\u001b[0m\u001b[0;34m.\u001b[0m\u001b[0mrgb_to_grayscale\u001b[0m\u001b[0;34m(\u001b[0m\u001b[0mfloat_image\u001b[0m\u001b[0;34m)\u001b[0m\u001b[0;34m\u001b[0m\u001b[0m\n",
      "\u001b[0;32m/home/carnd/anaconda3/envs/carnd-term1/lib/python3.5/site-packages/tensorflow/python/ops/image_ops_impl.py\u001b[0m in \u001b[0;36mper_image_standardization\u001b[0;34m(image)\u001b[0m\n\u001b[1;32m    697\u001b[0m   \u001b[0mimage\u001b[0m \u001b[0;34m=\u001b[0m \u001b[0mops\u001b[0m\u001b[0;34m.\u001b[0m\u001b[0mconvert_to_tensor\u001b[0m\u001b[0;34m(\u001b[0m\u001b[0mimage\u001b[0m\u001b[0;34m,\u001b[0m \u001b[0mname\u001b[0m\u001b[0;34m=\u001b[0m\u001b[0;34m'image'\u001b[0m\u001b[0;34m)\u001b[0m\u001b[0;34m\u001b[0m\u001b[0m\n\u001b[1;32m    698\u001b[0m   \u001b[0m_Check3DImage\u001b[0m\u001b[0;34m(\u001b[0m\u001b[0mimage\u001b[0m\u001b[0;34m,\u001b[0m \u001b[0mrequire_static\u001b[0m\u001b[0;34m=\u001b[0m\u001b[0;32mFalse\u001b[0m\u001b[0;34m)\u001b[0m\u001b[0;34m\u001b[0m\u001b[0m\n\u001b[0;32m--> 699\u001b[0;31m   \u001b[0mnum_pixels\u001b[0m \u001b[0;34m=\u001b[0m \u001b[0mmath_ops\u001b[0m\u001b[0;34m.\u001b[0m\u001b[0mreduce_prod\u001b[0m\u001b[0;34m(\u001b[0m\u001b[0marray_ops\u001b[0m\u001b[0;34m.\u001b[0m\u001b[0mshape\u001b[0m\u001b[0;34m(\u001b[0m\u001b[0mimage\u001b[0m\u001b[0;34m)\u001b[0m\u001b[0;34m)\u001b[0m\u001b[0;34m\u001b[0m\u001b[0m\n\u001b[0m\u001b[1;32m    700\u001b[0m \u001b[0;34m\u001b[0m\u001b[0m\n\u001b[1;32m    701\u001b[0m   \u001b[0mimage\u001b[0m \u001b[0;34m=\u001b[0m \u001b[0mmath_ops\u001b[0m\u001b[0;34m.\u001b[0m\u001b[0mcast\u001b[0m\u001b[0;34m(\u001b[0m\u001b[0mimage\u001b[0m\u001b[0;34m,\u001b[0m \u001b[0mdtype\u001b[0m\u001b[0;34m=\u001b[0m\u001b[0mdtypes\u001b[0m\u001b[0;34m.\u001b[0m\u001b[0mfloat32\u001b[0m\u001b[0;34m)\u001b[0m\u001b[0;34m\u001b[0m\u001b[0m\n",
      "\u001b[0;32m/home/carnd/anaconda3/envs/carnd-term1/lib/python3.5/site-packages/tensorflow/python/ops/math_ops.py\u001b[0m in \u001b[0;36mreduce_prod\u001b[0;34m(input_tensor, axis, keep_dims, name, reduction_indices)\u001b[0m\n\u001b[1;32m   1314\u001b[0m       \u001b[0m_ReductionDims\u001b[0m\u001b[0;34m(\u001b[0m\u001b[0minput_tensor\u001b[0m\u001b[0;34m,\u001b[0m \u001b[0maxis\u001b[0m\u001b[0;34m,\u001b[0m \u001b[0mreduction_indices\u001b[0m\u001b[0;34m)\u001b[0m\u001b[0;34m,\u001b[0m\u001b[0;34m\u001b[0m\u001b[0m\n\u001b[1;32m   1315\u001b[0m       \u001b[0mkeep_dims\u001b[0m\u001b[0;34m,\u001b[0m\u001b[0;34m\u001b[0m\u001b[0m\n\u001b[0;32m-> 1316\u001b[0;31m       name=name)\n\u001b[0m\u001b[1;32m   1317\u001b[0m \u001b[0;34m\u001b[0m\u001b[0m\n\u001b[1;32m   1318\u001b[0m \u001b[0;34m\u001b[0m\u001b[0m\n",
      "\u001b[0;32m/home/carnd/anaconda3/envs/carnd-term1/lib/python3.5/site-packages/tensorflow/python/ops/gen_math_ops.py\u001b[0m in \u001b[0;36m_prod\u001b[0;34m(input, reduction_indices, keep_dims, name)\u001b[0m\n\u001b[1;32m   1732\u001b[0m   result = _op_def_lib.apply_op(\"Prod\", input=input,\n\u001b[1;32m   1733\u001b[0m                                 \u001b[0mreduction_indices\u001b[0m\u001b[0;34m=\u001b[0m\u001b[0mreduction_indices\u001b[0m\u001b[0;34m,\u001b[0m\u001b[0;34m\u001b[0m\u001b[0m\n\u001b[0;32m-> 1734\u001b[0;31m                                 keep_dims=keep_dims, name=name)\n\u001b[0m\u001b[1;32m   1735\u001b[0m   \u001b[0;32mreturn\u001b[0m \u001b[0mresult\u001b[0m\u001b[0;34m\u001b[0m\u001b[0m\n\u001b[1;32m   1736\u001b[0m \u001b[0;34m\u001b[0m\u001b[0m\n",
      "\u001b[0;32m/home/carnd/anaconda3/envs/carnd-term1/lib/python3.5/site-packages/tensorflow/python/framework/op_def_library.py\u001b[0m in \u001b[0;36mapply_op\u001b[0;34m(self, op_type_name, name, **keywords)\u001b[0m\n\u001b[1;32m    757\u001b[0m         op = g.create_op(op_type_name, inputs, output_types, name=scope,\n\u001b[1;32m    758\u001b[0m                          \u001b[0minput_types\u001b[0m\u001b[0;34m=\u001b[0m\u001b[0minput_types\u001b[0m\u001b[0;34m,\u001b[0m \u001b[0mattrs\u001b[0m\u001b[0;34m=\u001b[0m\u001b[0mattr_protos\u001b[0m\u001b[0;34m,\u001b[0m\u001b[0;34m\u001b[0m\u001b[0m\n\u001b[0;32m--> 759\u001b[0;31m                          op_def=op_def)\n\u001b[0m\u001b[1;32m    760\u001b[0m         \u001b[0;32mif\u001b[0m \u001b[0moutput_structure\u001b[0m\u001b[0;34m:\u001b[0m\u001b[0;34m\u001b[0m\u001b[0m\n\u001b[1;32m    761\u001b[0m           \u001b[0moutputs\u001b[0m \u001b[0;34m=\u001b[0m \u001b[0mop\u001b[0m\u001b[0;34m.\u001b[0m\u001b[0moutputs\u001b[0m\u001b[0;34m\u001b[0m\u001b[0m\n",
      "\u001b[0;32m/home/carnd/anaconda3/envs/carnd-term1/lib/python3.5/site-packages/tensorflow/python/framework/ops.py\u001b[0m in \u001b[0;36mcreate_op\u001b[0;34m(self, op_type, inputs, dtypes, input_types, name, attrs, op_def, compute_shapes, compute_device)\u001b[0m\n\u001b[1;32m   2240\u001b[0m                     original_op=self._default_original_op, op_def=op_def)\n\u001b[1;32m   2241\u001b[0m     \u001b[0;32mif\u001b[0m \u001b[0mcompute_shapes\u001b[0m\u001b[0;34m:\u001b[0m\u001b[0;34m\u001b[0m\u001b[0m\n\u001b[0;32m-> 2242\u001b[0;31m       \u001b[0mset_shapes_for_outputs\u001b[0m\u001b[0;34m(\u001b[0m\u001b[0mret\u001b[0m\u001b[0;34m)\u001b[0m\u001b[0;34m\u001b[0m\u001b[0m\n\u001b[0m\u001b[1;32m   2243\u001b[0m     \u001b[0mself\u001b[0m\u001b[0;34m.\u001b[0m\u001b[0m_add_op\u001b[0m\u001b[0;34m(\u001b[0m\u001b[0mret\u001b[0m\u001b[0;34m)\u001b[0m\u001b[0;34m\u001b[0m\u001b[0m\n\u001b[1;32m   2244\u001b[0m     \u001b[0mself\u001b[0m\u001b[0;34m.\u001b[0m\u001b[0m_record_op_seen_by_control_dependencies\u001b[0m\u001b[0;34m(\u001b[0m\u001b[0mret\u001b[0m\u001b[0;34m)\u001b[0m\u001b[0;34m\u001b[0m\u001b[0m\n",
      "\u001b[0;32m/home/carnd/anaconda3/envs/carnd-term1/lib/python3.5/site-packages/tensorflow/python/framework/ops.py\u001b[0m in \u001b[0;36mset_shapes_for_outputs\u001b[0;34m(op)\u001b[0m\n\u001b[1;32m   1615\u001b[0m       \u001b[0mshape_func\u001b[0m \u001b[0;34m=\u001b[0m \u001b[0m_call_cpp_shape_fn_and_require_op\u001b[0m\u001b[0;34m\u001b[0m\u001b[0m\n\u001b[1;32m   1616\u001b[0m \u001b[0;34m\u001b[0m\u001b[0m\n\u001b[0;32m-> 1617\u001b[0;31m   \u001b[0mshapes\u001b[0m \u001b[0;34m=\u001b[0m \u001b[0mshape_func\u001b[0m\u001b[0;34m(\u001b[0m\u001b[0mop\u001b[0m\u001b[0;34m)\u001b[0m\u001b[0;34m\u001b[0m\u001b[0m\n\u001b[0m\u001b[1;32m   1618\u001b[0m   \u001b[0;32mif\u001b[0m \u001b[0mshapes\u001b[0m \u001b[0;32mis\u001b[0m \u001b[0;32mNone\u001b[0m\u001b[0;34m:\u001b[0m\u001b[0;34m\u001b[0m\u001b[0m\n\u001b[1;32m   1619\u001b[0m     raise RuntimeError(\n",
      "\u001b[0;32m/home/carnd/anaconda3/envs/carnd-term1/lib/python3.5/site-packages/tensorflow/python/framework/ops.py\u001b[0m in \u001b[0;36mcall_with_requiring\u001b[0;34m(op)\u001b[0m\n\u001b[1;32m   1566\u001b[0m \u001b[0;34m\u001b[0m\u001b[0m\n\u001b[1;32m   1567\u001b[0m   \u001b[0;32mdef\u001b[0m \u001b[0mcall_with_requiring\u001b[0m\u001b[0;34m(\u001b[0m\u001b[0mop\u001b[0m\u001b[0;34m)\u001b[0m\u001b[0;34m:\u001b[0m\u001b[0;34m\u001b[0m\u001b[0m\n\u001b[0;32m-> 1568\u001b[0;31m     \u001b[0;32mreturn\u001b[0m \u001b[0mcall_cpp_shape_fn\u001b[0m\u001b[0;34m(\u001b[0m\u001b[0mop\u001b[0m\u001b[0;34m,\u001b[0m \u001b[0mrequire_shape_fn\u001b[0m\u001b[0;34m=\u001b[0m\u001b[0;32mTrue\u001b[0m\u001b[0;34m)\u001b[0m\u001b[0;34m\u001b[0m\u001b[0m\n\u001b[0m\u001b[1;32m   1569\u001b[0m \u001b[0;34m\u001b[0m\u001b[0m\n\u001b[1;32m   1570\u001b[0m   \u001b[0m_call_cpp_shape_fn_and_require_op\u001b[0m \u001b[0;34m=\u001b[0m \u001b[0mcall_with_requiring\u001b[0m\u001b[0;34m\u001b[0m\u001b[0m\n",
      "\u001b[0;32m/home/carnd/anaconda3/envs/carnd-term1/lib/python3.5/site-packages/tensorflow/python/framework/common_shapes.py\u001b[0m in \u001b[0;36mcall_cpp_shape_fn\u001b[0;34m(op, input_tensors_needed, input_tensors_as_shapes_needed, debug_python_shape_fn, require_shape_fn)\u001b[0m\n\u001b[1;32m    608\u001b[0m     res = _call_cpp_shape_fn_impl(op, input_tensors_needed,\n\u001b[1;32m    609\u001b[0m                                   \u001b[0minput_tensors_as_shapes_needed\u001b[0m\u001b[0;34m,\u001b[0m\u001b[0;34m\u001b[0m\u001b[0m\n\u001b[0;32m--> 610\u001b[0;31m                                   debug_python_shape_fn, require_shape_fn)\n\u001b[0m\u001b[1;32m    611\u001b[0m     \u001b[0;32mif\u001b[0m \u001b[0;32mnot\u001b[0m \u001b[0misinstance\u001b[0m\u001b[0;34m(\u001b[0m\u001b[0mres\u001b[0m\u001b[0;34m,\u001b[0m \u001b[0mdict\u001b[0m\u001b[0;34m)\u001b[0m\u001b[0;34m:\u001b[0m\u001b[0;34m\u001b[0m\u001b[0m\n\u001b[1;32m    612\u001b[0m       \u001b[0;31m# Handles the case where _call_cpp_shape_fn_impl calls unknown_shape(op).\u001b[0m\u001b[0;34m\u001b[0m\u001b[0;34m\u001b[0m\u001b[0m\n",
      "\u001b[0;32m/home/carnd/anaconda3/envs/carnd-term1/lib/python3.5/site-packages/tensorflow/python/framework/common_shapes.py\u001b[0m in \u001b[0;36m_call_cpp_shape_fn_impl\u001b[0;34m(op, input_tensors_needed, input_tensors_as_shapes_needed, debug_python_shape_fn, require_shape_fn)\u001b[0m\n\u001b[1;32m    646\u001b[0m     \u001b[0;31m# pylint: enable=protected-access\u001b[0m\u001b[0;34m\u001b[0m\u001b[0;34m\u001b[0m\u001b[0m\n\u001b[1;32m    647\u001b[0m     \u001b[0;32mreturn\u001b[0m \u001b[0mr\u001b[0m\u001b[0;34m.\u001b[0m\u001b[0mSerializeToString\u001b[0m\u001b[0;34m(\u001b[0m\u001b[0;34m)\u001b[0m\u001b[0;34m\u001b[0m\u001b[0m\n\u001b[0;32m--> 648\u001b[0;31m   \u001b[0minput_shapes\u001b[0m \u001b[0;34m=\u001b[0m \u001b[0;34m[\u001b[0m\u001b[0mtensor_to_inference_result\u001b[0m\u001b[0;34m(\u001b[0m\u001b[0mi\u001b[0m\u001b[0;34m)\u001b[0m \u001b[0;32mfor\u001b[0m \u001b[0mi\u001b[0m \u001b[0;32min\u001b[0m \u001b[0mop\u001b[0m\u001b[0;34m.\u001b[0m\u001b[0minputs\u001b[0m\u001b[0;34m]\u001b[0m\u001b[0;34m\u001b[0m\u001b[0m\n\u001b[0m\u001b[1;32m    649\u001b[0m \u001b[0;34m\u001b[0m\u001b[0m\n\u001b[1;32m    650\u001b[0m   \u001b[0minput_tensors\u001b[0m \u001b[0;34m=\u001b[0m \u001b[0;34m[\u001b[0m\u001b[0;32mNone\u001b[0m \u001b[0;32mfor\u001b[0m \u001b[0mi\u001b[0m \u001b[0;32min\u001b[0m \u001b[0minput_shapes\u001b[0m\u001b[0;34m]\u001b[0m\u001b[0;34m\u001b[0m\u001b[0m\n",
      "\u001b[0;32m/home/carnd/anaconda3/envs/carnd-term1/lib/python3.5/site-packages/tensorflow/python/framework/common_shapes.py\u001b[0m in \u001b[0;36m<listcomp>\u001b[0;34m(.0)\u001b[0m\n\u001b[1;32m    646\u001b[0m     \u001b[0;31m# pylint: enable=protected-access\u001b[0m\u001b[0;34m\u001b[0m\u001b[0;34m\u001b[0m\u001b[0m\n\u001b[1;32m    647\u001b[0m     \u001b[0;32mreturn\u001b[0m \u001b[0mr\u001b[0m\u001b[0;34m.\u001b[0m\u001b[0mSerializeToString\u001b[0m\u001b[0;34m(\u001b[0m\u001b[0;34m)\u001b[0m\u001b[0;34m\u001b[0m\u001b[0m\n\u001b[0;32m--> 648\u001b[0;31m   \u001b[0minput_shapes\u001b[0m \u001b[0;34m=\u001b[0m \u001b[0;34m[\u001b[0m\u001b[0mtensor_to_inference_result\u001b[0m\u001b[0;34m(\u001b[0m\u001b[0mi\u001b[0m\u001b[0;34m)\u001b[0m \u001b[0;32mfor\u001b[0m \u001b[0mi\u001b[0m \u001b[0;32min\u001b[0m \u001b[0mop\u001b[0m\u001b[0;34m.\u001b[0m\u001b[0minputs\u001b[0m\u001b[0;34m]\u001b[0m\u001b[0;34m\u001b[0m\u001b[0m\n\u001b[0m\u001b[1;32m    649\u001b[0m \u001b[0;34m\u001b[0m\u001b[0m\n\u001b[1;32m    650\u001b[0m   \u001b[0minput_tensors\u001b[0m \u001b[0;34m=\u001b[0m \u001b[0;34m[\u001b[0m\u001b[0;32mNone\u001b[0m \u001b[0;32mfor\u001b[0m \u001b[0mi\u001b[0m \u001b[0;32min\u001b[0m \u001b[0minput_shapes\u001b[0m\u001b[0;34m]\u001b[0m\u001b[0;34m\u001b[0m\u001b[0m\n",
      "\u001b[0;32m/home/carnd/anaconda3/envs/carnd-term1/lib/python3.5/site-packages/tensorflow/python/framework/common_shapes.py\u001b[0m in \u001b[0;36mtensor_to_inference_result\u001b[0;34m(t)\u001b[0m\n\u001b[1;32m    639\u001b[0m \u001b[0;34m\u001b[0m\u001b[0m\n\u001b[1;32m    640\u001b[0m   \u001b[0;32mdef\u001b[0m \u001b[0mtensor_to_inference_result\u001b[0m\u001b[0;34m(\u001b[0m\u001b[0mt\u001b[0m\u001b[0;34m)\u001b[0m\u001b[0;34m:\u001b[0m\u001b[0;34m\u001b[0m\u001b[0m\n\u001b[0;32m--> 641\u001b[0;31m     \u001b[0mr\u001b[0m \u001b[0;34m=\u001b[0m \u001b[0mcpp_shape_inference_pb2\u001b[0m\u001b[0;34m.\u001b[0m\u001b[0mCppShapeInferenceResult\u001b[0m\u001b[0;34m(\u001b[0m\u001b[0;34m)\u001b[0m\u001b[0;34m\u001b[0m\u001b[0m\n\u001b[0m\u001b[1;32m    642\u001b[0m     \u001b[0mr\u001b[0m\u001b[0;34m.\u001b[0m\u001b[0mshape\u001b[0m\u001b[0;34m.\u001b[0m\u001b[0mCopyFrom\u001b[0m\u001b[0;34m(\u001b[0m\u001b[0mt\u001b[0m\u001b[0;34m.\u001b[0m\u001b[0mget_shape\u001b[0m\u001b[0;34m(\u001b[0m\u001b[0;34m)\u001b[0m\u001b[0;34m.\u001b[0m\u001b[0mas_proto\u001b[0m\u001b[0;34m(\u001b[0m\u001b[0;34m)\u001b[0m\u001b[0;34m)\u001b[0m\u001b[0;34m\u001b[0m\u001b[0m\n\u001b[1;32m    643\u001b[0m     \u001b[0;31m# pylint: disable=protected-access\u001b[0m\u001b[0;34m\u001b[0m\u001b[0;34m\u001b[0m\u001b[0m\n",
      "\u001b[0;31mKeyboardInterrupt\u001b[0m: "
     ]
    }
   ],
   "source": [
    "X_train, y_train, X_valid, y_valid, X_test, y_test = load_pickled_data()\n",
    "ppX_train = image_set_preprocessing(X_train)\n"
   ]
  },
  {
   "cell_type": "code",
   "execution_count": 51,
   "metadata": {},
   "outputs": [
    {
     "name": "stdout",
     "output_type": "stream",
     "text": [
      "Number of training examples = 34799\n",
      "Number of testing examples = 12630\n",
      "Image data shape = [32, 32, 3]\n",
      "Number of classes = 43\n",
      "Starting run for lr_1E-03__Dropout__no_image_distortion\n",
      "Training...\n",
      "\n",
      "[<tf.Tensor 'Reshape_8004:0' shape=(1, 32, 32, 1) dtype=float32>, <tf.Tensor 'Reshape_14398:0' shape=(1, 32, 32, 1) dtype=float32>, <tf.Tensor 'Reshape_432:0' shape=(1, 32, 32, 1) dtype=float32>, <tf.Tensor 'Reshape_16300:0' shape=(1, 32, 32, 1) dtype=float32>, <tf.Tensor 'Reshape_27289:0' shape=(1, 32, 32, 1) dtype=float32>, <tf.Tensor 'Reshape_26342:0' shape=(1, 32, 32, 1) dtype=float32>, <tf.Tensor 'Reshape_13074:0' shape=(1, 32, 32, 1) dtype=float32>, <tf.Tensor 'Reshape_19369:0' shape=(1, 32, 32, 1) dtype=float32>, <tf.Tensor 'Reshape_3284:0' shape=(1, 32, 32, 1) dtype=float32>, <tf.Tensor 'Reshape_26747:0' shape=(1, 32, 32, 1) dtype=float32>, <tf.Tensor 'Reshape_27643:0' shape=(1, 32, 32, 1) dtype=float32>, <tf.Tensor 'Reshape_32517:0' shape=(1, 32, 32, 1) dtype=float32>, <tf.Tensor 'Reshape_19953:0' shape=(1, 32, 32, 1) dtype=float32>, <tf.Tensor 'Reshape_13049:0' shape=(1, 32, 32, 1) dtype=float32>, <tf.Tensor 'Reshape_26024:0' shape=(1, 32, 32, 1) dtype=float32>, <tf.Tensor 'Reshape_16865:0' shape=(1, 32, 32, 1) dtype=float32>, <tf.Tensor 'Reshape_6484:0' shape=(1, 32, 32, 1) dtype=float32>, <tf.Tensor 'Reshape_7290:0' shape=(1, 32, 32, 1) dtype=float32>, <tf.Tensor 'Reshape_15595:0' shape=(1, 32, 32, 1) dtype=float32>, <tf.Tensor 'Reshape_18998:0' shape=(1, 32, 32, 1) dtype=float32>, <tf.Tensor 'Reshape_31219:0' shape=(1, 32, 32, 1) dtype=float32>, <tf.Tensor 'Reshape_17463:0' shape=(1, 32, 32, 1) dtype=float32>, <tf.Tensor 'Reshape_28186:0' shape=(1, 32, 32, 1) dtype=float32>, <tf.Tensor 'Reshape_14313:0' shape=(1, 32, 32, 1) dtype=float32>, <tf.Tensor 'Reshape_25042:0' shape=(1, 32, 32, 1) dtype=float32>, <tf.Tensor 'Reshape_8159:0' shape=(1, 32, 32, 1) dtype=float32>, <tf.Tensor 'Reshape_22189:0' shape=(1, 32, 32, 1) dtype=float32>, <tf.Tensor 'Reshape_29709:0' shape=(1, 32, 32, 1) dtype=float32>, <tf.Tensor 'Reshape_6155:0' shape=(1, 32, 32, 1) dtype=float32>, <tf.Tensor 'Reshape_15781:0' shape=(1, 32, 32, 1) dtype=float32>, <tf.Tensor 'Reshape_7639:0' shape=(1, 32, 32, 1) dtype=float32>, <tf.Tensor 'Reshape_4063:0' shape=(1, 32, 32, 1) dtype=float32>, <tf.Tensor 'Reshape_33056:0' shape=(1, 32, 32, 1) dtype=float32>, <tf.Tensor 'Reshape_20696:0' shape=(1, 32, 32, 1) dtype=float32>, <tf.Tensor 'Reshape_13933:0' shape=(1, 32, 32, 1) dtype=float32>, <tf.Tensor 'Reshape_13960:0' shape=(1, 32, 32, 1) dtype=float32>, <tf.Tensor 'Reshape_23066:0' shape=(1, 32, 32, 1) dtype=float32>, <tf.Tensor 'Reshape_8177:0' shape=(1, 32, 32, 1) dtype=float32>, <tf.Tensor 'Reshape_7842:0' shape=(1, 32, 32, 1) dtype=float32>, <tf.Tensor 'Reshape_4657:0' shape=(1, 32, 32, 1) dtype=float32>, <tf.Tensor 'Reshape_3875:0' shape=(1, 32, 32, 1) dtype=float32>, <tf.Tensor 'Reshape_30153:0' shape=(1, 32, 32, 1) dtype=float32>, <tf.Tensor 'Reshape_22183:0' shape=(1, 32, 32, 1) dtype=float32>, <tf.Tensor 'Reshape_8740:0' shape=(1, 32, 32, 1) dtype=float32>, <tf.Tensor 'Reshape_23087:0' shape=(1, 32, 32, 1) dtype=float32>, <tf.Tensor 'Reshape_17928:0' shape=(1, 32, 32, 1) dtype=float32>, <tf.Tensor 'Reshape_17465:0' shape=(1, 32, 32, 1) dtype=float32>, <tf.Tensor 'Reshape_22717:0' shape=(1, 32, 32, 1) dtype=float32>, <tf.Tensor 'Reshape_26820:0' shape=(1, 32, 32, 1) dtype=float32>, <tf.Tensor 'Reshape_13268:0' shape=(1, 32, 32, 1) dtype=float32>, <tf.Tensor 'Reshape_3625:0' shape=(1, 32, 32, 1) dtype=float32>, <tf.Tensor 'Reshape_2666:0' shape=(1, 32, 32, 1) dtype=float32>, <tf.Tensor 'Reshape_30025:0' shape=(1, 32, 32, 1) dtype=float32>, <tf.Tensor 'Reshape_25495:0' shape=(1, 32, 32, 1) dtype=float32>, <tf.Tensor 'Reshape_27928:0' shape=(1, 32, 32, 1) dtype=float32>, <tf.Tensor 'Reshape_27755:0' shape=(1, 32, 32, 1) dtype=float32>, <tf.Tensor 'Reshape_25343:0' shape=(1, 32, 32, 1) dtype=float32>, <tf.Tensor 'Reshape_20270:0' shape=(1, 32, 32, 1) dtype=float32>, <tf.Tensor 'Reshape_2919:0' shape=(1, 32, 32, 1) dtype=float32>, <tf.Tensor 'Reshape_24093:0' shape=(1, 32, 32, 1) dtype=float32>, <tf.Tensor 'Reshape_14351:0' shape=(1, 32, 32, 1) dtype=float32>, <tf.Tensor 'Reshape_14812:0' shape=(1, 32, 32, 1) dtype=float32>, <tf.Tensor 'Reshape_29949:0' shape=(1, 32, 32, 1) dtype=float32>, <tf.Tensor 'Reshape_30537:0' shape=(1, 32, 32, 1) dtype=float32>, <tf.Tensor 'Reshape_9651:0' shape=(1, 32, 32, 1) dtype=float32>, <tf.Tensor 'Reshape_34505:0' shape=(1, 32, 32, 1) dtype=float32>, <tf.Tensor 'Reshape_3171:0' shape=(1, 32, 32, 1) dtype=float32>, <tf.Tensor 'Reshape_16870:0' shape=(1, 32, 32, 1) dtype=float32>, <tf.Tensor 'Reshape_6774:0' shape=(1, 32, 32, 1) dtype=float32>, <tf.Tensor 'Reshape_10501:0' shape=(1, 32, 32, 1) dtype=float32>, <tf.Tensor 'Reshape_7626:0' shape=(1, 32, 32, 1) dtype=float32>, <tf.Tensor 'Reshape_10812:0' shape=(1, 32, 32, 1) dtype=float32>, <tf.Tensor 'Reshape_15794:0' shape=(1, 32, 32, 1) dtype=float32>, <tf.Tensor 'Reshape_30216:0' shape=(1, 32, 32, 1) dtype=float32>, <tf.Tensor 'Reshape_9320:0' shape=(1, 32, 32, 1) dtype=float32>, <tf.Tensor 'Reshape_12610:0' shape=(1, 32, 32, 1) dtype=float32>, <tf.Tensor 'Reshape_23588:0' shape=(1, 32, 32, 1) dtype=float32>, <tf.Tensor 'Reshape_31176:0' shape=(1, 32, 32, 1) dtype=float32>, <tf.Tensor 'Reshape_15920:0' shape=(1, 32, 32, 1) dtype=float32>, <tf.Tensor 'Reshape_14137:0' shape=(1, 32, 32, 1) dtype=float32>, <tf.Tensor 'Reshape_17539:0' shape=(1, 32, 32, 1) dtype=float32>, <tf.Tensor 'Reshape_3663:0' shape=(1, 32, 32, 1) dtype=float32>, <tf.Tensor 'Reshape_5720:0' shape=(1, 32, 32, 1) dtype=float32>, <tf.Tensor 'Reshape_33289:0' shape=(1, 32, 32, 1) dtype=float32>, <tf.Tensor 'Reshape_21652:0' shape=(1, 32, 32, 1) dtype=float32>, <tf.Tensor 'Reshape_18774:0' shape=(1, 32, 32, 1) dtype=float32>, <tf.Tensor 'Reshape_28177:0' shape=(1, 32, 32, 1) dtype=float32>, <tf.Tensor 'Reshape_10127:0' shape=(1, 32, 32, 1) dtype=float32>, <tf.Tensor 'Reshape_13699:0' shape=(1, 32, 32, 1) dtype=float32>, <tf.Tensor 'Reshape_23790:0' shape=(1, 32, 32, 1) dtype=float32>, <tf.Tensor 'Reshape_25225:0' shape=(1, 32, 32, 1) dtype=float32>, <tf.Tensor 'Reshape_429:0' shape=(1, 32, 32, 1) dtype=float32>, <tf.Tensor 'Reshape_3944:0' shape=(1, 32, 32, 1) dtype=float32>, <tf.Tensor 'Reshape_34132:0' shape=(1, 32, 32, 1) dtype=float32>, <tf.Tensor 'Reshape_14720:0' shape=(1, 32, 32, 1) dtype=float32>, <tf.Tensor 'Reshape_2065:0' shape=(1, 32, 32, 1) dtype=float32>, <tf.Tensor 'Reshape_12791:0' shape=(1, 32, 32, 1) dtype=float32>, <tf.Tensor 'Reshape_15266:0' shape=(1, 32, 32, 1) dtype=float32>, <tf.Tensor 'Reshape_10120:0' shape=(1, 32, 32, 1) dtype=float32>, <tf.Tensor 'Reshape_6390:0' shape=(1, 32, 32, 1) dtype=float32>, <tf.Tensor 'Reshape_24311:0' shape=(1, 32, 32, 1) dtype=float32>, <tf.Tensor 'Reshape_1650:0' shape=(1, 32, 32, 1) dtype=float32>, <tf.Tensor 'Reshape_15809:0' shape=(1, 32, 32, 1) dtype=float32>, <tf.Tensor 'Reshape_22234:0' shape=(1, 32, 32, 1) dtype=float32>, <tf.Tensor 'Reshape_9632:0' shape=(1, 32, 32, 1) dtype=float32>, <tf.Tensor 'Reshape_27446:0' shape=(1, 32, 32, 1) dtype=float32>, <tf.Tensor 'Reshape_9072:0' shape=(1, 32, 32, 1) dtype=float32>, <tf.Tensor 'Reshape_7982:0' shape=(1, 32, 32, 1) dtype=float32>, <tf.Tensor 'Reshape_17709:0' shape=(1, 32, 32, 1) dtype=float32>, <tf.Tensor 'Reshape_8885:0' shape=(1, 32, 32, 1) dtype=float32>, <tf.Tensor 'Reshape_23634:0' shape=(1, 32, 32, 1) dtype=float32>, <tf.Tensor 'Reshape_712:0' shape=(1, 32, 32, 1) dtype=float32>, <tf.Tensor 'Reshape_18684:0' shape=(1, 32, 32, 1) dtype=float32>, <tf.Tensor 'Reshape_26194:0' shape=(1, 32, 32, 1) dtype=float32>, <tf.Tensor 'Reshape_27674:0' shape=(1, 32, 32, 1) dtype=float32>, <tf.Tensor 'Reshape_13978:0' shape=(1, 32, 32, 1) dtype=float32>, <tf.Tensor 'Reshape_33948:0' shape=(1, 32, 32, 1) dtype=float32>, <tf.Tensor 'Reshape_6608:0' shape=(1, 32, 32, 1) dtype=float32>, <tf.Tensor 'Reshape_7759:0' shape=(1, 32, 32, 1) dtype=float32>, <tf.Tensor 'Reshape_15696:0' shape=(1, 32, 32, 1) dtype=float32>, <tf.Tensor 'Reshape_13226:0' shape=(1, 32, 32, 1) dtype=float32>, <tf.Tensor 'Reshape_7564:0' shape=(1, 32, 32, 1) dtype=float32>, <tf.Tensor 'Reshape_21109:0' shape=(1, 32, 32, 1) dtype=float32>, <tf.Tensor 'Reshape_24615:0' shape=(1, 32, 32, 1) dtype=float32>, <tf.Tensor 'Reshape_12796:0' shape=(1, 32, 32, 1) dtype=float32>, <tf.Tensor 'Reshape_4764:0' shape=(1, 32, 32, 1) dtype=float32>, <tf.Tensor 'Reshape_6473:0' shape=(1, 32, 32, 1) dtype=float32>, <tf.Tensor 'Reshape_24261:0' shape=(1, 32, 32, 1) dtype=float32>]\n"
     ]
    },
    {
     "ename": "ValueError",
     "evalue": "setting an array element with a sequence.",
     "output_type": "error",
     "traceback": [
      "\u001b[0;31m---------------------------------------------------------------------------\u001b[0m",
      "\u001b[0;31mValueError\u001b[0m                                Traceback (most recent call last)",
      "\u001b[0;32m<ipython-input-51-9b8d3b5204ed>\u001b[0m in \u001b[0;36m<module>\u001b[0;34m()\u001b[0m\n\u001b[0;32m----> 1\u001b[0;31m \u001b[0mallofit\u001b[0m\u001b[0;34m(\u001b[0m\u001b[0mppX_train\u001b[0m\u001b[0;34m,\u001b[0m \u001b[0my_train\u001b[0m\u001b[0;34m,\u001b[0m \u001b[0mX_valid\u001b[0m\u001b[0;34m,\u001b[0m \u001b[0my_valid\u001b[0m\u001b[0;34m,\u001b[0m \u001b[0mX_test\u001b[0m\u001b[0;34m,\u001b[0m \u001b[0my_test\u001b[0m\u001b[0;34m)\u001b[0m\u001b[0;34m\u001b[0m\u001b[0m\n\u001b[0m",
      "\u001b[0;32m<ipython-input-36-b6ff7775f864>\u001b[0m in \u001b[0;36mallofit\u001b[0;34m(ppX_train, y_train, X_valid, y_valid, X_test, y_test)\u001b[0m\n\u001b[1;32m     11\u001b[0m                         \u001b[0mhparam_string\u001b[0m \u001b[0;34m=\u001b[0m \u001b[0mmake_hparam_string\u001b[0m\u001b[0;34m(\u001b[0m\u001b[0mlearning_rate\u001b[0m\u001b[0;34m,\u001b[0m \u001b[0mdrop_param\u001b[0m\u001b[0;34m,\u001b[0m \u001b[0mimage_distort_param\u001b[0m\u001b[0;34m)\u001b[0m\u001b[0;34m\u001b[0m\u001b[0m\n\u001b[1;32m     12\u001b[0m                         \u001b[0mprint\u001b[0m\u001b[0;34m(\u001b[0m\u001b[0;34m'Starting run for %s'\u001b[0m \u001b[0;34m%\u001b[0m \u001b[0mhparam_string\u001b[0m\u001b[0;34m)\u001b[0m\u001b[0;34m\u001b[0m\u001b[0m\n\u001b[0;32m---> 13\u001b[0;31m                         \u001b[0mModelArch\u001b[0m\u001b[0;34m(\u001b[0m\u001b[0mppX_train\u001b[0m\u001b[0;34m,\u001b[0m \u001b[0my_train\u001b[0m\u001b[0;34m,\u001b[0m \u001b[0mX_valid\u001b[0m\u001b[0;34m,\u001b[0m \u001b[0my_valid\u001b[0m\u001b[0;34m,\u001b[0m \u001b[0mX_test\u001b[0m\u001b[0;34m,\u001b[0m \u001b[0my_test\u001b[0m\u001b[0;34m,\u001b[0m                              \u001b[0mlearning_rate\u001b[0m\u001b[0;34m,\u001b[0m \u001b[0mn_classes\u001b[0m\u001b[0;34m,\u001b[0m \u001b[0mhparam_string\u001b[0m\u001b[0;34m,\u001b[0m \u001b[0mdrop_param\u001b[0m\u001b[0;34m,\u001b[0m \u001b[0mdrop_rate\u001b[0m\u001b[0;34m,\u001b[0m                              \u001b[0mimage_distort_param\u001b[0m\u001b[0;34m,\u001b[0m \u001b[0;32mFalse\u001b[0m\u001b[0;34m)\u001b[0m\u001b[0;34m\u001b[0m\u001b[0m\n\u001b[0m\u001b[1;32m     14\u001b[0m     \u001b[0mprint\u001b[0m\u001b[0;34m(\u001b[0m\u001b[0;34m'Done training!'\u001b[0m\u001b[0;34m)\u001b[0m\u001b[0;34m\u001b[0m\u001b[0m\n\u001b[1;32m     15\u001b[0m     \u001b[0mprint\u001b[0m\u001b[0;34m(\u001b[0m\u001b[0;34m'Run `tensorboard --logdir=%s` to see the results.'\u001b[0m \u001b[0;34m%\u001b[0m \u001b[0mLOGDIR\u001b[0m\u001b[0;34m)\u001b[0m\u001b[0;34m\u001b[0m\u001b[0m\n",
      "\u001b[0;32m<ipython-input-46-86323c3ef7c9>\u001b[0m in \u001b[0;36mModelArch\u001b[0;34m(X_train, y_train, X_valid, y_valid, X_test, y_test, learn_rate, n_classes, hparam, use_dropout, dropout_prob, image_distortion, dont_run_training)\u001b[0m\n\u001b[1;32m     85\u001b[0m                     \u001b[0mbatch_x\u001b[0m \u001b[0;34m=\u001b[0m \u001b[0mrandom_image_distortion\u001b[0m\u001b[0;34m(\u001b[0m\u001b[0mbatch_x\u001b[0m\u001b[0;34m)\u001b[0m\u001b[0;34m\u001b[0m\u001b[0m\n\u001b[1;32m     86\u001b[0m                 \u001b[0mprint\u001b[0m\u001b[0;34m(\u001b[0m\u001b[0mbatch_x\u001b[0m\u001b[0;34m)\u001b[0m\u001b[0;34m\u001b[0m\u001b[0m\n\u001b[0;32m---> 87\u001b[0;31m                 \u001b[0msess\u001b[0m\u001b[0;34m.\u001b[0m\u001b[0mrun\u001b[0m\u001b[0;34m(\u001b[0m\u001b[0mtraining_operation\u001b[0m\u001b[0;34m,\u001b[0m \u001b[0mfeed_dict\u001b[0m\u001b[0;34m=\u001b[0m\u001b[0;34m{\u001b[0m\u001b[0mx\u001b[0m\u001b[0;34m:\u001b[0m \u001b[0mbatch_x\u001b[0m\u001b[0;34m,\u001b[0m \u001b[0my\u001b[0m\u001b[0;34m:\u001b[0m \u001b[0mbatch_y\u001b[0m\u001b[0;34m}\u001b[0m\u001b[0;34m)\u001b[0m\u001b[0;34m\u001b[0m\u001b[0m\n\u001b[0m\u001b[1;32m     88\u001b[0m             \u001b[0mnum_valid_examples\u001b[0m \u001b[0;34m=\u001b[0m \u001b[0mlen\u001b[0m\u001b[0;34m(\u001b[0m\u001b[0mX_valid\u001b[0m\u001b[0;34m)\u001b[0m\u001b[0;34m\u001b[0m\u001b[0m\n\u001b[1;32m     89\u001b[0m             \u001b[0mvalidation_accuracy\u001b[0m \u001b[0;34m=\u001b[0m \u001b[0;36m0\u001b[0m\u001b[0;34m\u001b[0m\u001b[0m\n",
      "\u001b[0;32m/home/carnd/anaconda3/envs/carnd-term1/lib/python3.5/site-packages/tensorflow/python/client/session.py\u001b[0m in \u001b[0;36mrun\u001b[0;34m(self, fetches, feed_dict, options, run_metadata)\u001b[0m\n\u001b[1;32m    764\u001b[0m     \u001b[0;32mtry\u001b[0m\u001b[0;34m:\u001b[0m\u001b[0;34m\u001b[0m\u001b[0m\n\u001b[1;32m    765\u001b[0m       result = self._run(None, fetches, feed_dict, options_ptr,\n\u001b[0;32m--> 766\u001b[0;31m                          run_metadata_ptr)\n\u001b[0m\u001b[1;32m    767\u001b[0m       \u001b[0;32mif\u001b[0m \u001b[0mrun_metadata\u001b[0m\u001b[0;34m:\u001b[0m\u001b[0;34m\u001b[0m\u001b[0m\n\u001b[1;32m    768\u001b[0m         \u001b[0mproto_data\u001b[0m \u001b[0;34m=\u001b[0m \u001b[0mtf_session\u001b[0m\u001b[0;34m.\u001b[0m\u001b[0mTF_GetBuffer\u001b[0m\u001b[0;34m(\u001b[0m\u001b[0mrun_metadata_ptr\u001b[0m\u001b[0;34m)\u001b[0m\u001b[0;34m\u001b[0m\u001b[0m\n",
      "\u001b[0;32m/home/carnd/anaconda3/envs/carnd-term1/lib/python3.5/site-packages/tensorflow/python/client/session.py\u001b[0m in \u001b[0;36m_run\u001b[0;34m(self, handle, fetches, feed_dict, options, run_metadata)\u001b[0m\n\u001b[1;32m    935\u001b[0m                 ' to a larger type (e.g. int64).')\n\u001b[1;32m    936\u001b[0m \u001b[0;34m\u001b[0m\u001b[0m\n\u001b[0;32m--> 937\u001b[0;31m           \u001b[0mnp_val\u001b[0m \u001b[0;34m=\u001b[0m \u001b[0mnp\u001b[0m\u001b[0;34m.\u001b[0m\u001b[0masarray\u001b[0m\u001b[0;34m(\u001b[0m\u001b[0msubfeed_val\u001b[0m\u001b[0;34m,\u001b[0m \u001b[0mdtype\u001b[0m\u001b[0;34m=\u001b[0m\u001b[0msubfeed_dtype\u001b[0m\u001b[0;34m)\u001b[0m\u001b[0;34m\u001b[0m\u001b[0m\n\u001b[0m\u001b[1;32m    938\u001b[0m \u001b[0;34m\u001b[0m\u001b[0m\n\u001b[1;32m    939\u001b[0m           \u001b[0;32mif\u001b[0m \u001b[0;32mnot\u001b[0m \u001b[0msubfeed_t\u001b[0m\u001b[0;34m.\u001b[0m\u001b[0mget_shape\u001b[0m\u001b[0;34m(\u001b[0m\u001b[0;34m)\u001b[0m\u001b[0;34m.\u001b[0m\u001b[0mis_compatible_with\u001b[0m\u001b[0;34m(\u001b[0m\u001b[0mnp_val\u001b[0m\u001b[0;34m.\u001b[0m\u001b[0mshape\u001b[0m\u001b[0;34m)\u001b[0m\u001b[0;34m:\u001b[0m\u001b[0;34m\u001b[0m\u001b[0m\n",
      "\u001b[0;32m/home/carnd/anaconda3/envs/carnd-term1/lib/python3.5/site-packages/numpy/core/numeric.py\u001b[0m in \u001b[0;36masarray\u001b[0;34m(a, dtype, order)\u001b[0m\n\u001b[1;32m    529\u001b[0m \u001b[0;34m\u001b[0m\u001b[0m\n\u001b[1;32m    530\u001b[0m     \"\"\"\n\u001b[0;32m--> 531\u001b[0;31m     \u001b[0;32mreturn\u001b[0m \u001b[0marray\u001b[0m\u001b[0;34m(\u001b[0m\u001b[0ma\u001b[0m\u001b[0;34m,\u001b[0m \u001b[0mdtype\u001b[0m\u001b[0;34m,\u001b[0m \u001b[0mcopy\u001b[0m\u001b[0;34m=\u001b[0m\u001b[0;32mFalse\u001b[0m\u001b[0;34m,\u001b[0m \u001b[0morder\u001b[0m\u001b[0;34m=\u001b[0m\u001b[0morder\u001b[0m\u001b[0;34m)\u001b[0m\u001b[0;34m\u001b[0m\u001b[0m\n\u001b[0m\u001b[1;32m    532\u001b[0m \u001b[0;34m\u001b[0m\u001b[0m\n\u001b[1;32m    533\u001b[0m \u001b[0;34m\u001b[0m\u001b[0m\n",
      "\u001b[0;31mValueError\u001b[0m: setting an array element with a sequence."
     ]
    }
   ],
   "source": [
    "allofit(ppX_train, y_train, X_valid, y_valid, X_test, y_test)"
   ]
  },
  {
   "cell_type": "markdown",
   "metadata": {},
   "source": [
    "---\n",
    "\n",
    "## Step 3: Test a Model on New Images\n",
    "\n",
    "To give yourself more insight into how your model is working, download at least five pictures of German traffic signs from the web and use your model to predict the traffic sign type.\n",
    "\n",
    "You may find `signnames.csv` useful as it contains mappings from the class id (integer) to the actual sign name."
   ]
  },
  {
   "cell_type": "markdown",
   "metadata": {},
   "source": [
    "### Load and Output the Images"
   ]
  },
  {
   "cell_type": "code",
   "execution_count": null,
   "metadata": {
    "collapsed": true
   },
   "outputs": [],
   "source": [
    "### Load the images and plot them here.\n",
    "### Feel free to use as many code cells as needed."
   ]
  },
  {
   "cell_type": "markdown",
   "metadata": {},
   "source": [
    "### Predict the Sign Type for Each Image"
   ]
  },
  {
   "cell_type": "code",
   "execution_count": null,
   "metadata": {
    "collapsed": true
   },
   "outputs": [],
   "source": [
    "### Run the predictions here and use the model to output the prediction for each image.\n",
    "### Make sure to pre-process the images with the same pre-processing pipeline used earlier.\n",
    "### Feel free to use as many code cells as needed."
   ]
  },
  {
   "cell_type": "markdown",
   "metadata": {},
   "source": [
    "### Analyze Performance"
   ]
  },
  {
   "cell_type": "code",
   "execution_count": null,
   "metadata": {
    "collapsed": true
   },
   "outputs": [],
   "source": [
    "### Calculate the accuracy for these 5 new images. \n",
    "### For example, if the model predicted 1 out of 5 signs correctly, it's 20% accurate on these new images."
   ]
  },
  {
   "cell_type": "markdown",
   "metadata": {},
   "source": [
    "### Output Top 5 Softmax Probabilities For Each Image Found on the Web"
   ]
  },
  {
   "cell_type": "markdown",
   "metadata": {},
   "source": [
    "For each of the new images, print out the model's softmax probabilities to show the **certainty** of the model's predictions (limit the output to the top 5 probabilities for each image). [`tf.nn.top_k`](https://www.tensorflow.org/versions/r0.12/api_docs/python/nn.html#top_k) could prove helpful here. \n",
    "\n",
    "The example below demonstrates how tf.nn.top_k can be used to find the top k predictions for each image.\n",
    "\n",
    "`tf.nn.top_k` will return the values and indices (class ids) of the top k predictions. So if k=3, for each sign, it'll return the 3 largest probabilities (out of a possible 43) and the correspoding class ids.\n",
    "\n",
    "Take this numpy array as an example. The values in the array represent predictions. The array contains softmax probabilities for five candidate images with six possible classes. `tf.nn.top_k` is used to choose the three classes with the highest probability:\n",
    "\n",
    "```\n",
    "# (5, 6) array\n",
    "a = np.array([[ 0.24879643,  0.07032244,  0.12641572,  0.34763842,  0.07893497,\n",
    "         0.12789202],\n",
    "       [ 0.28086119,  0.27569815,  0.08594638,  0.0178669 ,  0.18063401,\n",
    "         0.15899337],\n",
    "       [ 0.26076848,  0.23664738,  0.08020603,  0.07001922,  0.1134371 ,\n",
    "         0.23892179],\n",
    "       [ 0.11943333,  0.29198961,  0.02605103,  0.26234032,  0.1351348 ,\n",
    "         0.16505091],\n",
    "       [ 0.09561176,  0.34396535,  0.0643941 ,  0.16240774,  0.24206137,\n",
    "         0.09155967]])\n",
    "```\n",
    "\n",
    "Running it through `sess.run(tf.nn.top_k(tf.constant(a), k=3))` produces:\n",
    "\n",
    "```\n",
    "TopKV2(values=array([[ 0.34763842,  0.24879643,  0.12789202],\n",
    "       [ 0.28086119,  0.27569815,  0.18063401],\n",
    "       [ 0.26076848,  0.23892179,  0.23664738],\n",
    "       [ 0.29198961,  0.26234032,  0.16505091],\n",
    "       [ 0.34396535,  0.24206137,  0.16240774]]), indices=array([[3, 0, 5],\n",
    "       [0, 1, 4],\n",
    "       [0, 5, 1],\n",
    "       [1, 3, 5],\n",
    "       [1, 4, 3]], dtype=int32))\n",
    "```\n",
    "\n",
    "Looking just at the first row we get `[ 0.34763842,  0.24879643,  0.12789202]`, you can confirm these are the 3 largest probabilities in `a`. You'll also notice `[3, 0, 5]` are the corresponding indices."
   ]
  },
  {
   "cell_type": "code",
   "execution_count": null,
   "metadata": {
    "collapsed": true
   },
   "outputs": [],
   "source": [
    "### Print out the top five softmax probabilities for the predictions on the German traffic sign images found on the web. \n",
    "### Feel free to use as many code cells as needed."
   ]
  },
  {
   "cell_type": "markdown",
   "metadata": {},
   "source": [
    "### Project Writeup\n",
    "\n",
    "Once you have completed the code implementation, document your results in a project writeup using this [template](https://github.com/udacity/CarND-Traffic-Sign-Classifier-Project/blob/master/writeup_template.md) as a guide. The writeup can be in a markdown or pdf file. "
   ]
  },
  {
   "cell_type": "markdown",
   "metadata": {},
   "source": [
    "> **Note**: Once you have completed all of the code implementations and successfully answered each question above, you may finalize your work by exporting the iPython Notebook as an HTML document. You can do this by using the menu above and navigating to  \\n\",\n",
    "    \"**File -> Download as -> HTML (.html)**. Include the finished document along with this notebook as your submission."
   ]
  },
  {
   "cell_type": "markdown",
   "metadata": {},
   "source": [
    "---\n",
    "\n",
    "## Step 4 (Optional): Visualize the Neural Network's State with Test Images\n",
    "\n",
    " This Section is not required to complete but acts as an additional excersise for understaning the output of a neural network's weights. While neural networks can be a great learning device they are often referred to as a black box. We can understand what the weights of a neural network look like better by plotting their feature maps. After successfully training your neural network you can see what it's feature maps look like by plotting the output of the network's weight layers in response to a test stimuli image. From these plotted feature maps, it's possible to see what characteristics of an image the network finds interesting. For a sign, maybe the inner network feature maps react with high activation to the sign's boundary outline or to the contrast in the sign's painted symbol.\n",
    "\n",
    " Provided for you below is the function code that allows you to get the visualization output of any tensorflow weight layer you want. The inputs to the function should be a stimuli image, one used during training or a new one you provided, and then the tensorflow variable name that represents the layer's state during the training process, for instance if you wanted to see what the [LeNet lab's](https://classroom.udacity.com/nanodegrees/nd013/parts/fbf77062-5703-404e-b60c-95b78b2f3f9e/modules/6df7ae49-c61c-4bb2-a23e-6527e69209ec/lessons/601ae704-1035-4287-8b11-e2c2716217ad/concepts/d4aca031-508f-4e0b-b493-e7b706120f81) feature maps looked like for it's second convolutional layer you could enter conv2 as the tf_activation variable.\n",
    "\n",
    "For an example of what feature map outputs look like, check out NVIDIA's results in their paper [End-to-End Deep Learning for Self-Driving Cars](https://devblogs.nvidia.com/parallelforall/deep-learning-self-driving-cars/) in the section Visualization of internal CNN State. NVIDIA was able to show that their network's inner weights had high activations to road boundary lines by comparing feature maps from an image with a clear path to one without. Try experimenting with a similar test to show that your trained network's weights are looking for interesting features, whether it's looking at differences in feature maps from images with or without a sign, or even what feature maps look like in a trained network vs a completely untrained one on the same sign image.\n",
    "\n",
    "<figure>\n",
    " <img src=\"visualize_cnn.png\" width=\"380\" alt=\"Combined Image\" />\n",
    " <figcaption>\n",
    " <p></p> \n",
    " <p style=\"text-align: center;\"> Your output should look something like this (above)</p> \n",
    " </figcaption>\n",
    "</figure>\n",
    " <p></p> \n"
   ]
  },
  {
   "cell_type": "code",
   "execution_count": null,
   "metadata": {
    "collapsed": true
   },
   "outputs": [],
   "source": [
    "### Visualize your network's feature maps here.\n",
    "### Feel free to use as many code cells as needed.\n",
    "\n",
    "# image_input: the test image being fed into the network to produce the feature maps\n",
    "# tf_activation: should be a tf variable name used during your training procedure that represents the calculated state of a specific weight layer\n",
    "# activation_min/max: can be used to view the activation contrast in more detail, by default matplot sets min and max to the actual min and max values of the output\n",
    "# plt_num: used to plot out multiple different weight feature map sets on the same block, just extend the plt number for each new feature map entry\n",
    "\n",
    "def outputFeatureMap(image_input, tf_activation, activation_min=-1, activation_max=-1 ,plt_num=1):\n",
    "    # Here make sure to preprocess your image_input in a way your network expects\n",
    "    # with size, normalization, ect if needed\n",
    "    # image_input =\n",
    "    # Note: x should be the same name as your network's tensorflow data placeholder variable\n",
    "    # If you get an error tf_activation is not defined it may be having trouble accessing the variable from inside a function\n",
    "    activation = tf_activation.eval(session=sess,feed_dict={x : image_input})\n",
    "    featuremaps = activation.shape[3]\n",
    "    plt.figure(plt_num, figsize=(15,15))\n",
    "    for featuremap in range(featuremaps):\n",
    "        plt.subplot(6,8, featuremap+1) # sets the number of feature maps to show on each row and column\n",
    "        plt.title('FeatureMap ' + str(featuremap)) # displays the feature map number\n",
    "        if activation_min != -1 & activation_max != -1:\n",
    "            plt.imshow(activation[0,:,:, featuremap], interpolation=\"nearest\", vmin =activation_min, vmax=activation_max, cmap=\"gray\")\n",
    "        elif activation_max != -1:\n",
    "            plt.imshow(activation[0,:,:, featuremap], interpolation=\"nearest\", vmax=activation_max, cmap=\"gray\")\n",
    "        elif activation_min !=-1:\n",
    "            plt.imshow(activation[0,:,:, featuremap], interpolation=\"nearest\", vmin=activation_min, cmap=\"gray\")\n",
    "        else:\n",
    "            plt.imshow(activation[0,:,:, featuremap], interpolation=\"nearest\", cmap=\"gray\")"
   ]
  }
 ],
 "metadata": {
  "anaconda-cloud": {},
  "kernelspec": {
   "display_name": "Python 3",
   "language": "python",
   "name": "python3"
  },
  "language_info": {
   "codemirror_mode": {
    "name": "ipython",
    "version": 3
   },
   "file_extension": ".py",
   "mimetype": "text/x-python",
   "name": "python",
   "nbconvert_exporter": "python",
   "pygments_lexer": "ipython3",
   "version": "3.5.2"
  },
  "widgets": {
   "state": {},
   "version": "1.1.2"
  }
 },
 "nbformat": 4,
 "nbformat_minor": 1
}
