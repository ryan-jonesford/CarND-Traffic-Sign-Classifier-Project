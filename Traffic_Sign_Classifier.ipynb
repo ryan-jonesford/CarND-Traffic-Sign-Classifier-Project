{
 "cells": [
  {
   "cell_type": "markdown",
   "metadata": {},
   "source": [
    "# Self-Driving Car Engineer Nanodegree\n",
    "\n",
    "## Deep Learning\n",
    "\n",
    "## Project: Build a Traffic Sign Recognition Classifier\n",
    "\n",
    "In this notebook, a template is provided for you to implement your functionality in stages, which is required to successfully complete this project. If additional code is required that cannot be included in the notebook, be sure that the Python code is successfully imported and included in your submission if necessary. \n",
    "\n",
    "> **Note**: Once you have completed all of the code implementations, you need to finalize your work by exporting the iPython Notebook as an HTML document. Before exporting the notebook to html, all of the code cells need to have been run so that reviewers can see the final implementation and output. You can then export the notebook by using the menu above and navigating to  \\n\",\n",
    "    \"**File -> Download as -> HTML (.html)**. Include the finished document along with this notebook as your submission. \n",
    "\n",
    "In addition to implementing code, there is a writeup to complete. The writeup should be completed in a separate file, which can be either a markdown file or a pdf document. There is a [write up template](https://github.com/udacity/CarND-Traffic-Sign-Classifier-Project/blob/master/writeup_template.md) that can be used to guide the writing process. Completing the code template and writeup template will cover all of the [rubric points](https://review.udacity.com/#!/rubrics/481/view) for this project.\n",
    "\n",
    "The [rubric](https://review.udacity.com/#!/rubrics/481/view) contains \"Stand Out Suggestions\" for enhancing the project beyond the minimum requirements. The stand out suggestions are optional. If you decide to pursue the \"stand out suggestions\", you can include the code in this Ipython notebook and also discuss the results in the writeup file.\n",
    "\n",
    "\n",
    ">**Note:** Code and Markdown cells can be executed using the **Shift + Enter** keyboard shortcut. In addition, Markdown cells can be edited by typically double-clicking the cell to enter edit mode."
   ]
  },
  {
   "cell_type": "markdown",
   "metadata": {},
   "source": [
    "---\n",
    "\n",
    "## Step 0: Import the needed modules and load the data"
   ]
  },
  {
   "cell_type": "code",
   "execution_count": 1,
   "metadata": {
    "collapsed": true
   },
   "outputs": [],
   "source": [
    "import numpy as np\n",
    "import pandas as pd\n",
    "from sklearn.utils import shuffle\n",
    "import tensorflow as tf\n",
    "from tensorflow.contrib.layers import flatten\n",
    "import random\n",
    "import matplotlib.pyplot as plt\n",
    "import matplotlib.image as mpimg\n",
    "import matplotlib\n",
    "import pickle\n",
    "import os\n",
    "import math\n",
    "import cv2\n",
    "from scipy import ndimage\n",
    "\n",
    "LOGDIR = \"/tmp/sign_classifier/\"\n",
    "LABELS= \"./signnames.csv\"\n",
    "SPRITES = \"./traffic-sign-data/\""
   ]
  },
  {
   "cell_type": "code",
   "execution_count": 2,
   "metadata": {
    "collapsed": true
   },
   "outputs": [],
   "source": [
    "# Load pickled data\n",
    "def load_pickled_data():\n",
    "    training_file = \"./traffic-sign-data/train.p\"\n",
    "    validation_file= \"./traffic-sign-data/valid.p\"\n",
    "    testing_file = \"./traffic-sign-data/test.p\"\n",
    "\n",
    "    with open(training_file, mode='rb') as f:\n",
    "        train = pickle.load(f)\n",
    "    with open(validation_file, mode='rb') as f:\n",
    "        valid = pickle.load(f)\n",
    "    with open(testing_file, mode='rb') as f:\n",
    "        test = pickle.load(f)\n",
    "\n",
    "    X_train, y_train = train['features'], train['labels']\n",
    "    X_valid, y_valid = valid['features'], valid['labels']\n",
    "    X_test, y_test = test['features'], test['labels']\n",
    "    return X_train, y_train, X_valid, y_valid, X_test, y_test"
   ]
  },
  {
   "cell_type": "markdown",
   "metadata": {},
   "source": [
    "---\n",
    "\n",
    "## Step 1: Dataset Summary & Exploration\n",
    "\n",
    "The pickled data is a dictionary with 4 key/value pairs:\n",
    "\n",
    "- `'features'` is a 4D array containing raw pixel data of the traffic sign images, (num examples, width, height, channels).\n",
    "- `'labels'` is a 1D array containing the label/class id of the traffic sign. The file `signnames.csv` contains id -> name mappings for each id.\n",
    "- `'sizes'` is a list containing tuples, (width, height) representing the original width and height the image.\n",
    "- `'coords'` is a list containing tuples, (x1, y1, x2, y2) representing coordinates of a bounding box around the sign in the image. **THESE COORDINATES ASSUME THE ORIGINAL IMAGE. THE PICKLED DATA CONTAINS RESIZED VERSIONS (32 by 32) OF THESE IMAGES**\n",
    "\n",
    "Complete the basic data summary below. Use python, numpy and/or pandas methods to calculate the data summary rather than hard coding the results. For example, the [pandas shape method](http://pandas.pydata.org/pandas-docs/stable/generated/pandas.DataFrame.shape.html) might be useful for calculating some of the summary results. "
   ]
  },
  {
   "cell_type": "markdown",
   "metadata": {},
   "source": [
    "### Provide a Basic Summary of the Data Set Using Python, Numpy and/or Pandas"
   ]
  },
  {
   "cell_type": "code",
   "execution_count": 3,
   "metadata": {
    "collapsed": true
   },
   "outputs": [],
   "source": [
    "def data_summary(X_train, X_valid, X_test):\n",
    "    class_file_df = pd.read_csv(LABELS, delimiter=',')\n",
    "\n",
    "    # Number of training examples\n",
    "    n_train = np.shape(X_train)[0]\n",
    "\n",
    "    # Number of validation examples\n",
    "    n_validation = np.shape(X_valid)[0]\n",
    "\n",
    "    # Number of testing examples.\n",
    "    n_test = np.shape(X_test)[0]\n",
    "\n",
    "    # What's the shape of an traffic sign image?\n",
    "    image_shape = [np.shape(X_train)[1],np.shape(X_train)[2],np.shape(X_train)[3]]\n",
    "\n",
    "    # How many unique classes/labels there are in the dataset.\n",
    "    n_classes = class_file_df.shape[0]\n",
    "\n",
    "    print(\"Number of training examples =\", n_train)\n",
    "    print(\"Number of testing examples =\", n_test)\n",
    "    print(\"Image data shape =\", image_shape)\n",
    "    print(\"Number of classes =\", n_classes)\n",
    "    return n_train, n_validation, n_test, image_shape, n_classes, class_file_df"
   ]
  },
  {
   "cell_type": "markdown",
   "metadata": {},
   "source": [
    "### Include an exploratory visualization of the dataset"
   ]
  },
  {
   "cell_type": "markdown",
   "metadata": {},
   "source": [
    "Visualize the German Traffic Signs Dataset using the pickled file(s). This is open ended, suggestions include: plotting traffic sign images, plotting the count of each sign, etc. \n",
    "\n",
    "The [Matplotlib](http://matplotlib.org/) [examples](http://matplotlib.org/examples/index.html) and [gallery](http://matplotlib.org/gallery.html) pages are a great resource for doing visualizations in Python.\n",
    "\n",
    "**NOTE:** It's recommended you start with something simple first. If you wish to do more, come back to it after you've completed the rest of the sections. It can be interesting to look at the distribution of classes in the training, validation and test set. Is the distribution the same? Are there more examples of some classes than others?"
   ]
  },
  {
   "cell_type": "code",
   "execution_count": 4,
   "metadata": {
    "collapsed": true
   },
   "outputs": [],
   "source": [
    "def view_sample_image(X_train, y_train, class_file_df):# Let's look at what one of these pictures looks like\n",
    "    %matplotlib inline\n",
    "    index = random.randint(0, len(X_train))\n",
    "    image = X_train[index].squeeze()\n",
    "    print(y_train[index])\n",
    "    print(class_file_df['SignName'][y_train[index]])\n",
    "    fig = plt.figure(figsize=(2,2))\n",
    "    ax = fig.add_subplot(111)\n",
    "    ax.grid(b=False)\n",
    "    plt.imshow(image)"
   ]
  },
  {
   "cell_type": "code",
   "execution_count": 5,
   "metadata": {
    "collapsed": true
   },
   "outputs": [],
   "source": [
    "def visualize_data(class_file_df, y_train):\n",
    "    #Now lets see how many of each type I have in my training data\n",
    "    plt.style.use('ggplot')\n",
    "    # get the counts of signs in the training dataset\n",
    "    unique, counts = np.unique(y_train, return_counts=True)\n",
    "    # since the signs are sorted 1-42 we can just add the count to the dataframe\n",
    "    class_file_df['train_count'] = pd.Series(counts,index=class_file_df.index)\n",
    "    # And sort the dataframe by the counts of the signs to make the plot look nice\n",
    "    class_file_df = class_file_df.sort_values(by=['train_count'])\n",
    "\n",
    "    # setup the plot\n",
    "    fig = plt.figure(figsize=(8,9))\n",
    "    ax = fig.add_subplot(111)\n",
    "    signs = class_file_df['SignName']\n",
    "    y_pos = np.arange(len(signs))\n",
    "    count = class_file_df['train_count']\n",
    "\n",
    "    ax.barh(y_pos, count, align='center',\n",
    "            color='green', ecolor='black')\n",
    "    ax.set_yticks(y_pos)\n",
    "    ax.set_yticklabels(signs)\n",
    "    ax.set_xlabel('count')\n",
    "    ax.set_title('Training signs count')\n",
    "    plt.show()"
   ]
  },
  {
   "cell_type": "markdown",
   "metadata": {},
   "source": [
    "----\n",
    "\n",
    "## Step 2: Design and Test a Model Architecture\n",
    "\n",
    "Design and implement a deep learning model that learns to recognize traffic signs. Train and test your model on the [German Traffic Sign Dataset](http://benchmark.ini.rub.de/?section=gtsrb&subsection=dataset).\n",
    "\n",
    "The LeNet-5 implementation shown in the [classroom](https://classroom.udacity.com/nanodegrees/nd013/parts/fbf77062-5703-404e-b60c-95b78b2f3f9e/modules/6df7ae49-c61c-4bb2-a23e-6527e69209ec/lessons/601ae704-1035-4287-8b11-e2c2716217ad/concepts/d4aca031-508f-4e0b-b493-e7b706120f81) at the end of the CNN lesson is a solid starting point. You'll have to change the number of classes and possibly the preprocessing, but aside from that it's plug and play! \n",
    "\n",
    "With the LeNet-5 solution from the lecture, you should expect a validation set accuracy of about 0.89. To meet specifications, the validation set accuracy will need to be at least 0.93. It is possible to get an even higher accuracy, but 0.93 is the minimum for a successful project submission. \n",
    "\n",
    "There are various aspects to consider when thinking about this problem:\n",
    "\n",
    "- Neural network architecture (is the network over or underfitting?)\n",
    "- Play around preprocessing techniques (normalization, rgb to grayscale, etc)\n",
    "- Number of examples per label (some have more than others).\n",
    "- Generate fake data.\n",
    "\n",
    "Here is an example of a [published baseline model on this problem](http://yann.lecun.com/exdb/publis/pdf/sermanet-ijcnn-11.pdf). It's not required to be familiar with the approach used in the paper but, it's good practice to try to read papers like these."
   ]
  },
  {
   "cell_type": "markdown",
   "metadata": {},
   "source": [
    "### Pre-process the Data Set (normalization, grayscale, etc.)"
   ]
  },
  {
   "cell_type": "markdown",
   "metadata": {},
   "source": [
    "Minimally, the image data should be normalized so that the data has mean zero and equal variance. For image data, `(pixel - 128)/ 128` is a quick way to approximately normalize the data and can be used in this project. \n",
    "\n",
    "Other pre-processing steps are optional. You can try different techniques to see if it improves performance. \n",
    "\n",
    "Use the code cell (or multiple code cells, if necessary) to implement the first step of your project."
   ]
  },
  {
   "cell_type": "code",
   "execution_count": 6,
   "metadata": {
    "collapsed": true
   },
   "outputs": [],
   "source": [
    "def images_to_gray(images):\n",
    "    output = []\n",
    "    for image in images:\n",
    "        output.append(image_to_gray(image))\n",
    "    return output;\n",
    "\n",
    "def image_to_gray(img):\n",
    "    \"\"\"Applies the YUV transform\"\"\"\n",
    "    image = cv2.cvtColor(img, cv2.COLOR_BGR2GRAY)\n",
    "    return image\n",
    "\n",
    "def gaussian_blur(img, kernel_size):\n",
    "    \"\"\"Applies a Gaussian Noise kernel\"\"\"\n",
    "    return cv2.GaussianBlur(img, (kernel_size, kernel_size), 0)\n",
    "\n",
    "def normalize(image):\n",
    "    \"\"\"Normalizes images\"\"\"\n",
    "    channels = cv2.split(image)\n",
    "    channel_len = len(channels)\n",
    "    num_image_elements = 32*32*channel_len\n",
    "    chan = []\n",
    "    image_chan_mean, image_chan_stddev = cv2.meanStdDev(image)\n",
    "    for i in range(channel_len):\n",
    "        chan.append(abs((channels[i]- image_chan_mean[i])/max(image_chan_stddev[i], 1./math.sqrt(num_image_elements))))\n",
    "    return cv2.merge(chan)\n",
    "\n",
    "def normalize_batch(images):\n",
    "    output = []\n",
    "    for image in images:\n",
    "        output.append(normalize(image))\n",
    "    return output\n",
    "\n",
    "def random_image_distortion(image):\n",
    "    if random.randint(0,10) > 5:\n",
    "        distorted_image = rotate_image_random_amount(image)\n",
    "    if random.randint(0,10) > 5:\n",
    "        distorted_image = flip(image)\n",
    "    else:\n",
    "        return image\n",
    "    return distorted_image\n",
    "\n",
    "def rotate_image_random_amount(image):\n",
    "    #https://stackoverflow.com/questions/9041681/opencv-python-rotate-image-by-x-degrees-around-specific-point#9042907\n",
    "    angle = random.randint(-90,90)\n",
    "    #rotation angle in degree\n",
    "    return ndimage.rotate(image, angle)\n",
    "\n",
    "def flip(image):\n",
    "    horizontal_img = cv2.flip( image, 0 )\n",
    "    return horizontal_img\n",
    "\n",
    "def increase_brightness(img, value=50):\n",
    "    #https://stackoverflow.com/questions/32609098/how-to-fast-change-image-brightness-with-python-opencv\n",
    "    hsv = cv2.cvtColor(img, cv2.COLOR_BGR2HSV)\n",
    "    h, s, v = cv2.split(hsv)\n",
    "\n",
    "    lim = 255 - value\n",
    "    v[v > lim] = 255\n",
    "    v[v <= lim] += value\n",
    "\n",
    "    final_hsv = cv2.merge((h, s, v))\n",
    "    img = cv2.cvtColor(final_hsv, cv2.COLOR_HSV2BGR)\n",
    "    return img"
   ]
  },
  {
   "cell_type": "markdown",
   "metadata": {},
   "source": [
    "(x - mean) / adjusted_stddev\n",
    "\n",
    "where adjusted_stddev = max(stddev, 1.0/sqrt(image.NumElements()))"
   ]
  },
  {
   "cell_type": "code",
   "execution_count": 7,
   "metadata": {
    "collapsed": true
   },
   "outputs": [],
   "source": [
    "def preprocess_img(image, choice=\"gray_normal\"):\n",
    "    return {\n",
    "        'adaptive_th': cv2.adaptiveThreshold(image_to_gray(image),255,cv2.ADAPTIVE_THRESH_MEAN_C,\\\n",
    "                cv2.THRESH_BINARY,3,3),\n",
    "        'grayscale': image_to_gray(image),\n",
    "        'gray_normal': normalize(image_to_gray(image)),\n",
    "        'gray_normal_bright': normalize(image_to_gray(increase_brightness(image, 120))),\n",
    "    }[choice]\n",
    "#     out_img = cv2.adaptiveThreshold(image_to_gray(image),255,cv2.ADAPTIVE_THRESH_MEAN_C,\\\n",
    "#                 cv2.THRESH_BINARY,3,3)\n",
    "#     return out_img\n",
    "\n",
    "def preprocess_imgs(images, choice=\"gray_normal\"):\n",
    "    output = []\n",
    "    for image in images:\n",
    "        output.append(preprocess_img(image, choice))\n",
    "    return output"
   ]
  },
  {
   "cell_type": "code",
   "execution_count": 8,
   "metadata": {
    "scrolled": true
   },
   "outputs": [
    {
     "data": {
      "image/png": "[encoded data removed]",
      "text/plain": [
       "<matplotlib.figure.Figure at 0x7fb033be6a90>"
      ]
     },
     "metadata": {},
     "output_type": "display_data"
    }
   ],
   "source": [
    "x1, y1, x2, y2, x3, y3 = load_pickled_data()\n",
    "%matplotlib inline\n",
    "image = x1[random.randint(0,len(x1))]\n",
    "ppi = []\n",
    "ppi.append(preprocess_img(image, 'grayscale'))\n",
    "ppi.append(preprocess_img(image, 'gray_normal'))\n",
    "ppi.append(preprocess_img(image, 'adaptive_th'))\n",
    "ppi.append(preprocess_img(image, 'gray_normal_bright'))\n",
    "fig = plt.figure()\n",
    "plt.subplot(3,4,1),plt.imshow(image)\n",
    "plt.title(\"Original\"), plt.xticks([]), plt.yticks([])\n",
    "plt.subplot(3,4,3),plt.imshow(ppi[0],cmap=\"gray\")\n",
    "plt.title(\"processed grayscale\"), plt.xticks([]), plt.yticks([])\n",
    "plt.subplot(3,4,5),plt.imshow(ppi[1],cmap=\"gray\")\n",
    "plt.title(\"processed nomalized grayscale\"), plt.xticks([]), plt.yticks([])\n",
    "plt.subplot(3,4,7),plt.imshow(ppi[2],cmap=\"gray\")\n",
    "plt.title(\"processed adaptive threshold filter\"), plt.xticks([]), plt.yticks([])\n",
    "plt.subplot(3,4,9),plt.imshow(ppi[3],cmap=\"gray\")\n",
    "plt.title(\"processed normalized bright grayscale\"), plt.xticks([]), plt.yticks([])\n",
    "plt.show()\n"
   ]
  },
  {
   "cell_type": "markdown",
   "metadata": {},
   "source": [
    "### Model Architecture"
   ]
  },
  {
   "cell_type": "code",
   "execution_count": 9,
   "metadata": {
    "collapsed": true
   },
   "outputs": [],
   "source": [
    "def conv_layer(x, size_in, size_out, stride=1, name=\"conv\"):\n",
    "    with tf.name_scope(name):\n",
    "        mu = 0\n",
    "        sigma = 0.1\n",
    "        w = tf.Variable(tf.truncated_normal([5,5,size_in,size_out],mu,sigma), name=\"W\")\n",
    "        b = tf.Variable(tf.truncated_normal([size_out],mu,sigma), name=\"b\")\n",
    "        conv = tf.nn.conv2d(x, w, strides=[1,stride,stride,1], padding=\"SAME\")\n",
    "        tf.summary.histogram(\"weights\", w)\n",
    "        tf.summary.histogram(\"biases\", b)\n",
    "        return conv,b\n",
    "\n",
    "def activation(x,b,_type=\"relu\"):\n",
    "#     activation = {\n",
    "#         'relu': tf.nn.relu(x + b),\n",
    "#         'crelu': tf.nn.crelu(x + b),\n",
    "#         'elu': tf.nn.elu(x + b),\n",
    "#     }[_type]\n",
    "    activation = tf.nn.relu(x + b)\n",
    "    tf.summary.histogram(\"activations\", activation)\n",
    "    return activation\n",
    "\n",
    "def pool(x):\n",
    "    return tf.nn.max_pool(x, ksize=[1,2,2,1], strides=[1,2,2,1], padding=\"SAME\")\n",
    "    \n",
    "def fc_layer(x, size_in, size_out, stride=1, name=\"fc\" ):\n",
    "    with tf.name_scope(name):\n",
    "        mu = 0\n",
    "        sigma = 0.1\n",
    "        w = tf.Variable(tf.truncated_normal([size_in,size_out],mu,sigma))\n",
    "        b = tf.Variable(tf.truncated_normal([size_out]))\n",
    "        fc = tf.matmul(x, w) + b\n",
    "        activation = tf.nn.relu(fc + b)\n",
    "        tf.summary.histogram(\"weights\", w)\n",
    "        tf.summary.histogram(\"biases\", b)\n",
    "        tf.summary.histogram(\"activations\", activation)\n",
    "        return activation\n",
    "\n",
    "def logit(x, size_in, size_out, name=\"logit\" ):\n",
    "    with tf.name_scope(name):\n",
    "        mu = 0\n",
    "        sigma = 0.1\n",
    "        w = tf.Variable(tf.truncated_normal([size_in,size_out],mu,sigma))\n",
    "        b = tf.Variable(tf.truncated_normal([size_out]))\n",
    "        logit = tf.matmul(x, w) + b\n",
    "        tf.summary.histogram(\"weights\", w)\n",
    "        tf.summary.histogram(\"biases\", b)\n",
    "        tf.summary.histogram(\"activations\", logit)\n",
    "        return logit "
   ]
  },
  {
   "cell_type": "code",
   "execution_count": 15,
   "metadata": {
    "collapsed": true
   },
   "outputs": [],
   "source": [
    "def ModelArch(X_train, y_train, X_valid, y_valid,\\\n",
    "              learn_rate, n_classes, hparam=\"test_run\", use_dropout=False, dropout_prob=0,\\\n",
    "              image_channels=3, use_image_distortion=True):\n",
    "    EPOCHS = 20\n",
    "    BATCH_SIZE = 128\n",
    "    tf.reset_default_graph()\n",
    "    sess = tf.Session()\n",
    "\n",
    "    # setup the feautures, labels\n",
    "    # x is a placeholder for a batch of input images. y is a placeholder for a batch of output labels.\n",
    "    x = tf.placeholder(tf.float32, shape=[None, 32,32,image_channels], name=\"x\")\n",
    "    tf.summary.image('input', x, 3)\n",
    "    y = tf.placeholder(tf.int32, (None), name=\"labels\")\n",
    "    one_hot_y = tf.one_hot(y,n_classes)\n",
    "\n",
    "    # setup the nn with 2 convolutional layers and two fully connected layers\n",
    "    # also give the option to enable dropouts after each of the fc layers\n",
    "    size_in = {\n",
    "        'conv_layer1': image_channels,\n",
    "        'conv_layer2': 6,\n",
    "        'fc_layer1': 1024,\n",
    "        'fc_layer2': 120,\n",
    "        'logit': 84\n",
    "    }\n",
    "    size_out = {\n",
    "        'conv_layer1': 6,\n",
    "        'conv_layer2': 16,      \n",
    "        'fc_layer1': 120,\n",
    "        'fc_layer2': 84,\n",
    "        'logit': n_classes\n",
    "    }\n",
    "    conv1, conv1_b = conv_layer(x, size_in['conv_layer1'],size_out['conv_layer1'], name=\"conv1\")\n",
    "    conv1 = activation(conv1, conv1_b, 'relu')\n",
    "    pool1 = pool(conv1)\n",
    "    conv2, conv2_b = conv_layer(pool1, size_in['conv_layer2'],size_out['conv_layer2'], name=\"conv2\")\n",
    "    conv2 = activation(conv2, conv2_b,)\n",
    "    pool2 = pool(conv2)\n",
    "    flat_conv = flatten(pool2)\n",
    "    fc1 = fc_layer(flat_conv, size_in['fc_layer1'],size_out['fc_layer1'], name=\"FC1\")\n",
    "    if use_dropout:\n",
    "        fc1 = tf.nn.dropout(fc1, dropout_prob)\n",
    "    fc2 = fc_layer(fc1, size_in['fc_layer2'],size_out['fc_layer2'],name=\"FC2\")\n",
    "    if use_dropout:\n",
    "        fc2 = tf.nn.dropout(fc2, dropout_prob)\n",
    "    logits = logit(fc2,size_in['logit'],size_out['logit'],name=\"output\")\n",
    "\n",
    "    \n",
    "    with tf.name_scope(\"cross-entropy\"):\n",
    "        cross_entropy = tf.reduce_mean(\n",
    "            tf.nn.softmax_cross_entropy_with_logits(\n",
    "                logits=logits, labels=one_hot_y), name=\"cross-entropy\")\n",
    "        tf.summary.scalar(\"cross-entropy\", cross_entropy)\n",
    "\n",
    "    with tf.name_scope(\"accuracy\"):\n",
    "        correct_prediction = tf.equal(tf.argmax(logits, 1), tf.argmax(one_hot_y, 1))\n",
    "        accuracy_operation = tf.reduce_mean(tf.cast(correct_prediction, tf.float32))\n",
    "        tf.summary.scalar(\"accuracy\", accuracy_operation)\n",
    "\n",
    "    with tf.name_scope(\"train\"):\n",
    "        optimizer = tf.train.AdamOptimizer(learning_rate = learn_rate)\n",
    "        training_operation = optimizer.minimize(cross_entropy)\n",
    "    \n",
    "    summ = tf.summary.merge_all()\n",
    "\n",
    "    saver = tf.train.Saver()\n",
    "\n",
    "    sess.run(tf.global_variables_initializer())\n",
    "    writer = tf.summary.FileWriter(LOGDIR + hparam)\n",
    "    writer.add_graph(sess.graph)\n",
    "\n",
    "    config = tf.contrib.tensorboard.plugins.projector.ProjectorConfig()\n",
    "    tf.contrib.tensorboard.plugins.projector.visualize_embeddings(writer, config)\n",
    "\n",
    "    print(\"Training...\")\n",
    "    for i in range(EPOCHS):\n",
    "        saver.save(sess, os.path.join(LOGDIR, \"model.ckpt\"), i)\n",
    "        num_examples = len(X_train)\n",
    "        X_train, y_train = shuffle(X_train, y_train)\n",
    "        for offset in range(0, num_examples, BATCH_SIZE):\n",
    "            end = offset + BATCH_SIZE\n",
    "            batch_x, batch_y = X_train[offset:end], y_train[offset:end]\n",
    "#             if use_image_distortion:\n",
    "#                 batch_x = [random_image_distortion(me) for me in batch_x]\n",
    "            batch_x = [np.reshape(me, [32,32,image_channels]) for me in batch_x]\n",
    "            sess.run(training_operation, feed_dict={x: batch_x, y: batch_y})\n",
    "        \n",
    "        num_valid_examples = len(X_valid)\n",
    "        validation_accuracy = 0\n",
    "        for offset in range(0, num_valid_examples, BATCH_SIZE):\n",
    "            batch_x, batch_y = X_valid[offset:offset+BATCH_SIZE], y_valid[offset:offset+BATCH_SIZE]\n",
    "            batch_x = [np.reshape(me, [32,32,image_channels]) for me in batch_x]\n",
    "            [accuracy,s] = sess.run([accuracy_operation,summ], feed_dict={x: batch_x, y: batch_y})\n",
    "            validation_accuracy += (accuracy * len(batch_x))\n",
    "            writer.add_summary(s, i)\n",
    "        accuracy = validation_accuracy/num_valid_examples\n",
    "        \n",
    "        print(\"EPOCH {} ...\".format(i+1))\n",
    "        print(\"Validation Accuracy = {:.3f}\".format(accuracy))\n",
    "        print()\n",
    "        saver.save(sess, os.path.join(LOGDIR, \"model.ckpt\"), i)\n",
    "        print(\"Model Checkpoint saved\")"
   ]
  },
  {
   "cell_type": "code",
   "execution_count": 11,
   "metadata": {
    "collapsed": true
   },
   "outputs": [],
   "source": [
    "def make_hparam_string(learning_rate, use_drouput, dropout_rate, use_image_distortion):\n",
    "    drop_param = \"Dropout\" if use_drouput else \"no_dropout\"\n",
    "    image_distort_param = \"with_image_distortion\" if use_image_distortion else \"no_image_distortion\"\n",
    "    return \"lr_%.0E__%s__dropout_rate_%s__%s\" % (learning_rate, drop_param, dropout_rate, image_distort_param)"
   ]
  },
  {
   "cell_type": "markdown",
   "metadata": {},
   "source": [
    "### Train, Validate and Test the Model"
   ]
  },
  {
   "cell_type": "markdown",
   "metadata": {},
   "source": [
    "A validation set can be used to assess how well the model is performing. A low accuracy on the training and validation\n",
    "sets imply underfitting. A high accuracy on the training set but low accuracy on the validation set implies overfitting."
   ]
  },
  {
   "cell_type": "code",
   "execution_count": 16,
   "metadata": {
    "scrolled": false
   },
   "outputs": [
    {
     "name": "stdout",
     "output_type": "stream",
     "text": [
      "Number of training examples = 34799\n",
      "Number of testing examples = 12630\n",
      "Image data shape = [32, 32, 3]\n",
      "Number of classes = 43\n",
      "Starting run for lr_1E-03__no_dropout__dropout_rate_0.75__with_image_distortion\n",
      "Training...\n",
      "EPOCH 1 ...\n",
      "Validation Accuracy = 0.425\n",
      "\n",
      "Model Checkpoint saved\n",
      "EPOCH 2 ...\n",
      "Validation Accuracy = 0.593\n",
      "\n",
      "Model Checkpoint saved\n",
      "EPOCH 3 ...\n",
      "Validation Accuracy = 0.653\n",
      "\n",
      "Model Checkpoint saved\n",
      "EPOCH 4 ...\n",
      "Validation Accuracy = 0.698\n",
      "\n",
      "Model Checkpoint saved\n",
      "EPOCH 5 ...\n",
      "Validation Accuracy = 0.698\n",
      "\n",
      "Model Checkpoint saved\n",
      "EPOCH 6 ...\n",
      "Validation Accuracy = 0.735\n",
      "\n",
      "Model Checkpoint saved\n",
      "EPOCH 7 ...\n",
      "Validation Accuracy = 0.750\n",
      "\n",
      "Model Checkpoint saved\n",
      "EPOCH 8 ...\n",
      "Validation Accuracy = 0.765\n",
      "\n",
      "Model Checkpoint saved\n",
      "EPOCH 9 ...\n",
      "Validation Accuracy = 0.763\n",
      "\n",
      "Model Checkpoint saved\n",
      "EPOCH 10 ...\n",
      "Validation Accuracy = 0.765\n",
      "\n",
      "Model Checkpoint saved\n",
      "EPOCH 11 ...\n",
      "Validation Accuracy = 0.774\n",
      "\n",
      "Model Checkpoint saved\n",
      "EPOCH 12 ...\n",
      "Validation Accuracy = 0.774\n",
      "\n",
      "Model Checkpoint saved\n",
      "EPOCH 13 ...\n",
      "Validation Accuracy = 0.788\n",
      "\n",
      "Model Checkpoint saved\n",
      "EPOCH 14 ...\n",
      "Validation Accuracy = 0.785\n",
      "\n",
      "Model Checkpoint saved\n",
      "EPOCH 15 ...\n",
      "Validation Accuracy = 0.787\n",
      "\n",
      "Model Checkpoint saved\n",
      "EPOCH 16 ...\n",
      "Validation Accuracy = 0.791\n",
      "\n",
      "Model Checkpoint saved\n",
      "EPOCH 17 ...\n",
      "Validation Accuracy = 0.807\n",
      "\n",
      "Model Checkpoint saved\n",
      "EPOCH 18 ...\n",
      "Validation Accuracy = 0.800\n",
      "\n",
      "Model Checkpoint saved\n",
      "EPOCH 19 ...\n",
      "Validation Accuracy = 0.797\n",
      "\n",
      "Model Checkpoint saved\n",
      "EPOCH 20 ...\n",
      "Validation Accuracy = 0.805\n",
      "\n",
      "Model Checkpoint saved\n"
     ]
    }
   ],
   "source": [
    "X_train, y_train, X_valid, y_valid, pX_test, y_test = load_pickled_data()\n",
    "n_train, n_validation, n_test, image_shape, n_classes, class_file_df = \\\n",
    "    data_summary(X_train, X_valid, pX_test)\n",
    "X_train = preprocess_imgs(X_train,'gray_normal')\n",
    "X_valid = preprocess_imgs(X_valid,'gray_normal')\n",
    "hparam_string = make_hparam_string(1E-3, False, dropout_rate=0.75, use_image_distortion=True)\n",
    "print('Starting run for %s' % hparam_string)\n",
    "ModelArch(X_train, y_train, X_valid, y_valid,\\\n",
    "    1E-3, n_classes, hparam_string, True, dropout_prob=0.75,\\\n",
    "    image_channels=1, use_image_distortion=True)"
   ]
  },
  {
   "cell_type": "code",
   "execution_count": null,
   "metadata": {
    "collapsed": true
   },
   "outputs": [],
   "source": [
    "def main():\n",
    "      # You can try adding some more learning rates\n",
    "    X_train, y_train, X_valid, y_valid, pX_test, y_test = load_pickled_data()\n",
    "    n_train, n_validation, n_test, image_shape, n_classes, class_file_df = \\\n",
    "        data_summary(X_train, X_valid, pX_test)\n",
    "    pX_train = normalize_batch(images_to_gray(X_train))\n",
    "    X_valid = normalize_batch(images_to_gray(X_valid))\n",
    "    dropout_rate = 0\n",
    "    for learning_rate in [1E-3, 1E-4]:\n",
    "        for image_distort_param in [False, True]:\n",
    "            for drop_param in [False, True]:\n",
    "                if image_distort_param:\n",
    "                    X_train = [random_image_distortion(img) for img in X_train]\n",
    "                else:\n",
    "                    X_train = pX_train\n",
    "                if drop_param:\n",
    "                    for dropout_rate in [0.25, 0.5, 0.75]:\n",
    "                        # Construct a hyperparameter string for each one\n",
    "                        hparam_string = make_hparam_string(learning_rate, drop_param, dropout_rate, image_distort_param)\n",
    "                        print('Starting run for %s' % hparam_string)\n",
    "                        ModelArch(X_train, y_train, X_valid, y_valid, pX_test, y_test,\\\n",
    "                            learning_rate, n_classes, hparam_string, drop_param, dropout_rate,\\\n",
    "                            image_channels=1)\n",
    "                else:\n",
    "                    hparam_string = make_hparam_string(learning_rate, drop_param, dropout_rate=0, use_image_distortion=image_distort_param)\n",
    "                    print('Starting run for %s' % hparam_string)\n",
    "                    ModelArch(X_train, y_train, X_valid, y_valid, pX_test, y_test,\\\n",
    "                        learning_rate, n_classes, hparam_string, drop_param, dropout_prob=0,\\\n",
    "                        image_channels=1)\n",
    "    print('Done training!')\n",
    "    print('Run `tensorboard --logdir=%s` to see the results.' % LOGDIR)\n",
    "\n",
    "if __name__ == '__main__':\n",
    "    main()"
   ]
  },
  {
   "cell_type": "markdown",
   "metadata": {},
   "source": [
    "### Hyper parameters to use\n",
    "After 100 Epochs the best model seemed to be the one with a learning rate of 1E-3 and a dropout rate of .75 with no added image distortion, in fact the ones with image distortion seemed to do worse. This might very well be due to my method. "
   ]
  },
  {
   "cell_type": "markdown",
   "metadata": {},
   "source": [
    "---\n",
    "\n",
    "## Step 3: Test a Model on New Images\n",
    "\n",
    "To give yourself more insight into how your model is working, download at least five pictures of German traffic signs from the web and use your model to predict the traffic sign type.\n",
    "\n",
    "You may find `signnames.csv` useful as it contains mappings from the class id (integer) to the actual sign name."
   ]
  },
  {
   "cell_type": "markdown",
   "metadata": {},
   "source": [
    "### Load and Output the Images"
   ]
  },
  {
   "cell_type": "code",
   "execution_count": null,
   "metadata": {
    "collapsed": true
   },
   "outputs": [],
   "source": [
    "def get_img_paths(root_dir):\n",
    "    test_imgs = os.listdir(root_dir)\n",
    "    for i in range(len(test_imgs)):\n",
    "        test_imgs[i] = \"signs_from_google_maps/\"+test_imgs[i]\n",
    "    return test_imgs\n",
    "\n",
    "def load_images(files):\n",
    "    images = []\n",
    "    for file in files:\n",
    "        images.append(mpimg.imread(file))\n",
    "    return images\n",
    "\n",
    "def view_images(images):\n",
    "    subplot_shape = int((len(images)/2) + (len(images)%2))\n",
    "    count = 1\n",
    "    fig = plt.figure()\n",
    "    for img in images:\n",
    "        %matplotlib inline\n",
    "        plt.imshow(img)\n",
    "        plt.show()\n",
    "        count+=1\n",
    "        \n",
    "view_images(load_images(get_img_paths( \"signs_from_google_maps\")))"
   ]
  },
  {
   "cell_type": "markdown",
   "metadata": {},
   "source": [
    "### Predict the Sign Type for Each Image"
   ]
  },
  {
   "cell_type": "code",
   "execution_count": null,
   "metadata": {
    "collapsed": true
   },
   "outputs": [],
   "source": [
    "### Run the predictions here and use the model to output the prediction for each image.\n",
    "### Make sure to pre-process the images with the same pre-processing pipeline used earlier.\n",
    "### Feel free to use as many code cells as needed.\n",
    "\n",
    "def restore_tf(save_file):\n",
    "    # Remove the previous weights and bias\n",
    "    tf.reset_default_graph()\n",
    "\n",
    "    # Two Variables: weights and bias\n",
    "    weights = tf.Variable(tf.truncated_normal([2, 3]))\n",
    "    bias = tf.Variable(tf.truncated_normal([3]))\n",
    "\n",
    "    # Class used to save and/or restore Tensor Variables\n",
    "    saver = tf.train.Saver()\n",
    "\n",
    "    with tf.Session() as sess:\n",
    "        # Load the weights and bias\n",
    "        saver.restore(sess, save_file)\n",
    "    return sess"
   ]
  },
  {
   "cell_type": "code",
   "execution_count": null,
   "metadata": {
    "collapsed": true
   },
   "outputs": [],
   "source": [
    "def test_images_from_web():\n",
    "    images_to_test = load_images(get_img_paths( \"signs_from_google_maps\"))\n",
    "    restore_tf()"
   ]
  },
  {
   "cell_type": "markdown",
   "metadata": {},
   "source": [
    "### Analyze Performance"
   ]
  },
  {
   "cell_type": "code",
   "execution_count": null,
   "metadata": {
    "collapsed": true
   },
   "outputs": [],
   "source": [
    "### Calculate the accuracy for these 5 new images. \n",
    "### For example, if the model predicted 1 out of 5 signs correctly, it's 20% accurate on these new images."
   ]
  },
  {
   "cell_type": "markdown",
   "metadata": {},
   "source": [
    "### Output Top 5 Softmax Probabilities For Each Image Found on the Web"
   ]
  },
  {
   "cell_type": "markdown",
   "metadata": {},
   "source": [
    "For each of the new images, print out the model's softmax probabilities to show the **certainty** of the model's predictions (limit the output to the top 5 probabilities for each image). [`tf.nn.top_k`](https://www.tensorflow.org/versions/r0.12/api_docs/python/nn.html#top_k) could prove helpful here. \n",
    "\n",
    "The example below demonstrates how tf.nn.top_k can be used to find the top k predictions for each image.\n",
    "\n",
    "`tf.nn.top_k` will return the values and indices (class ids) of the top k predictions. So if k=3, for each sign, it'll return the 3 largest probabilities (out of a possible 43) and the correspoding class ids.\n",
    "\n",
    "Take this numpy array as an example. The values in the array represent predictions. The array contains softmax probabilities for five candidate images with six possible classes. `tf.nn.top_k` is used to choose the three classes with the highest probability:\n",
    "\n",
    "```\n",
    "# (5, 6) array\n",
    "a = np.array([[ 0.24879643,  0.07032244,  0.12641572,  0.34763842,  0.07893497,\n",
    "         0.12789202],\n",
    "       [ 0.28086119,  0.27569815,  0.08594638,  0.0178669 ,  0.18063401,\n",
    "         0.15899337],\n",
    "       [ 0.26076848,  0.23664738,  0.08020603,  0.07001922,  0.1134371 ,\n",
    "         0.23892179],\n",
    "       [ 0.11943333,  0.29198961,  0.02605103,  0.26234032,  0.1351348 ,\n",
    "         0.16505091],\n",
    "       [ 0.09561176,  0.34396535,  0.0643941 ,  0.16240774,  0.24206137,\n",
    "         0.09155967]])\n",
    "```\n",
    "\n",
    "Running it through `sess.run(tf.nn.top_k(tf.constant(a), k=3))` produces:\n",
    "\n",
    "```\n",
    "TopKV2(values=array([[ 0.34763842,  0.24879643,  0.12789202],\n",
    "       [ 0.28086119,  0.27569815,  0.18063401],\n",
    "       [ 0.26076848,  0.23892179,  0.23664738],\n",
    "       [ 0.29198961,  0.26234032,  0.16505091],\n",
    "       [ 0.34396535,  0.24206137,  0.16240774]]), indices=array([[3, 0, 5],\n",
    "       [0, 1, 4],\n",
    "       [0, 5, 1],\n",
    "       [1, 3, 5],\n",
    "       [1, 4, 3]], dtype=int32))\n",
    "```\n",
    "\n",
    "Looking just at the first row we get `[ 0.34763842,  0.24879643,  0.12789202]`, you can confirm these are the 3 largest probabilities in `a`. You'll also notice `[3, 0, 5]` are the corresponding indices."
   ]
  },
  {
   "cell_type": "code",
   "execution_count": null,
   "metadata": {
    "collapsed": true
   },
   "outputs": [],
   "source": [
    "### Print out the top five softmax probabilities for the predictions on the German traffic sign images found on the web. \n",
    "### Feel free to use as many code cells as needed."
   ]
  },
  {
   "cell_type": "markdown",
   "metadata": {},
   "source": [
    "### Project Writeup\n",
    "\n",
    "Once you have completed the code implementation, document your results in a project writeup using this [template](https://github.com/udacity/CarND-Traffic-Sign-Classifier-Project/blob/master/writeup_template.md) as a guide. The writeup can be in a markdown or pdf file. "
   ]
  },
  {
   "cell_type": "markdown",
   "metadata": {},
   "source": [
    "> **Note**: Once you have completed all of the code implementations and successfully answered each question above, you may finalize your work by exporting the iPython Notebook as an HTML document. You can do this by using the menu above and navigating to  \\n\",\n",
    "    \"**File -> Download as -> HTML (.html)**. Include the finished document along with this notebook as your submission."
   ]
  },
  {
   "cell_type": "markdown",
   "metadata": {},
   "source": [
    "---\n",
    "\n",
    "## Step 4 (Optional): Visualize the Neural Network's State with Test Images\n",
    "\n",
    " This Section is not required to complete but acts as an additional excersise for understaning the output of a neural network's weights. While neural networks can be a great learning device they are often referred to as a black box. We can understand what the weights of a neural network look like better by plotting their feature maps. After successfully training your neural network you can see what it's feature maps look like by plotting the output of the network's weight layers in response to a test stimuli image. From these plotted feature maps, it's possible to see what characteristics of an image the network finds interesting. For a sign, maybe the inner network feature maps react with high activation to the sign's boundary outline or to the contrast in the sign's painted symbol.\n",
    "\n",
    " Provided for you below is the function code that allows you to get the visualization output of any tensorflow weight layer you want. The inputs to the function should be a stimuli image, one used during training or a new one you provided, and then the tensorflow variable name that represents the layer's state during the training process, for instance if you wanted to see what the [LeNet lab's](https://classroom.udacity.com/nanodegrees/nd013/parts/fbf77062-5703-404e-b60c-95b78b2f3f9e/modules/6df7ae49-c61c-4bb2-a23e-6527e69209ec/lessons/601ae704-1035-4287-8b11-e2c2716217ad/concepts/d4aca031-508f-4e0b-b493-e7b706120f81) feature maps looked like for it's second convolutional layer you could enter conv2 as the tf_activation variable.\n",
    "\n",
    "For an example of what feature map outputs look like, check out NVIDIA's results in their paper [End-to-End Deep Learning for Self-Driving Cars](https://devblogs.nvidia.com/parallelforall/deep-learning-self-driving-cars/) in the section Visualization of internal CNN State. NVIDIA was able to show that their network's inner weights had high activations to road boundary lines by comparing feature maps from an image with a clear path to one without. Try experimenting with a similar test to show that your trained network's weights are looking for interesting features, whether it's looking at differences in feature maps from images with or without a sign, or even what feature maps look like in a trained network vs a completely untrained one on the same sign image.\n",
    "\n",
    "<figure>\n",
    " <img src=\"visualize_cnn.png\" width=\"380\" alt=\"Combined Image\" />\n",
    " <figcaption>\n",
    " <p></p> \n",
    " <p style=\"text-align: center;\"> Your output should look something like this (above)</p> \n",
    " </figcaption>\n",
    "</figure>\n",
    " <p></p> \n"
   ]
  },
  {
   "cell_type": "code",
   "execution_count": null,
   "metadata": {
    "collapsed": true
   },
   "outputs": [],
   "source": [
    "### Visualize your network's feature maps here.\n",
    "### Feel free to use as many code cells as needed.\n",
    "\n",
    "# image_input: the test image being fed into the network to produce the feature maps\n",
    "# tf_activation: should be a tf variable name used during your training procedure that represents the calculated state of a specific weight layer\n",
    "# activation_min/max: can be used to view the activation contrast in more detail, by default matplot sets min and max to the actual min and max values of the output\n",
    "# plt_num: used to plot out multiple different weight feature map sets on the same block, just extend the plt number for each new feature map entry\n",
    "\n",
    "def outputFeatureMap(image_input, tf_activation, activation_min=-1, activation_max=-1 ,plt_num=1):\n",
    "    # Here make sure to preprocess your image_input in a way your network expects\n",
    "    # with size, normalization, ect if needed\n",
    "    # image_input =\n",
    "    # Note: x should be the same name as your network's tensorflow data placeholder variable\n",
    "    # If you get an error tf_activation is not defined it may be having trouble accessing the variable from inside a function\n",
    "    activation = tf_activation.eval(session=sess,feed_dict={x : image_input})\n",
    "    featuremaps = activation.shape[3]\n",
    "    plt.figure(plt_num, figsize=(15,15))\n",
    "    for featuremap in range(featuremaps):\n",
    "        plt.subplot(6,8, featuremap+1) # sets the number of feature maps to show on each row and column\n",
    "        plt.title('FeatureMap ' + str(featuremap)) # displays the feature map number\n",
    "        if activation_min != -1 & activation_max != -1:\n",
    "            plt.imshow(activation[0,:,:, featuremap], interpolation=\"nearest\", vmin =activation_min, vmax=activation_max, cmap=\"gray\")\n",
    "        elif activation_max != -1:\n",
    "            plt.imshow(activation[0,:,:, featuremap], interpolation=\"nearest\", vmax=activation_max, cmap=\"gray\")\n",
    "        elif activation_min !=-1:\n",
    "            plt.imshow(activation[0,:,:, featuremap], interpolation=\"nearest\", vmin=activation_min, cmap=\"gray\")\n",
    "        else:\n",
    "            plt.imshow(activation[0,:,:, featuremap], interpolation=\"nearest\", cmap=\"gray\")"
   ]
  }
 ],
 "metadata": {
  "anaconda-cloud": {},
  "kernelspec": {
   "display_name": "Python 3",
   "language": "python",
   "name": "python3"
  },
  "language_info": {
   "codemirror_mode": {
    "name": "ipython",
    "version": 3
   },
   "file_extension": ".py",
   "mimetype": "text/x-python",
   "name": "python",
   "nbconvert_exporter": "python",
   "pygments_lexer": "ipython3",
   "version": "3.5.2"
  },
  "widgets": {
   "state": {},
   "version": "1.1.2"
  }
 },
 "nbformat": 4,
 "nbformat_minor": 1
}
